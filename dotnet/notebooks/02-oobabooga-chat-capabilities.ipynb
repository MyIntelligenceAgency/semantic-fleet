{
 "cells": [
  {
   "attachments": {},
   "cell_type": "markdown",
   "metadata": {},
   "source": [
    "# Notebook 2: Advanced Chat Capabilities with Oobabooga\n",
    "\n",
    "## Introduction\n",
    "\n",
    "Welcome to the advanced course! We're diving into more complex chat capabilities. Hold tight!"
   ]
  },
  {
   "attachments": {},
   "cell_type": "markdown",
   "metadata": {},
   "source": [
    "## Setup\n",
    "\n",
    "Just like in Notebook 01, let's set up the environment first.\n",
    "\n",
    "**Step 1**: Configure your Oobabooga service settings\n",
    "\n",
    "Use [this notebook](0-AI-settings.ipynb) to save your Oobabooga settings in the configuration file.\n",
    "Here, we load the settings section relevant to this notebook.\n",
    "\n",
    "Note that we use the multiconnector nuget package because it provides us with helper classes to deal with Oobabooga configuration in Settings.json, but we won't be using the multiconnector capabilities apart from this."
   ]
  },
  {
   "cell_type": "code",
   "execution_count": 1,
   "metadata": {
    "dotnet_interactive": {
     "language": "csharp"
    },
    "polyglot_notebook": {
     "kernelName": "csharp"
    }
   },
   "outputs": [
    {
     "data": {
      "text/html": [
       "<div><div></div><div></div><div><strong>Installed Packages</strong><ul><li><span>Microsoft.Extensions.Configuration, 7.0.0</span></li><li><span>Microsoft.Extensions.Configuration.Binder, 7.0.4</span></li><li><span>Microsoft.Extensions.Configuration.Json, 7.0.0</span></li><li><span>MyIA.SemanticKernel.Connectors.AI.MultiConnector, 0.34.2</span></li></ul></div></div>"
      ]
     },
     "metadata": {},
     "output_type": "display_data"
    }
   ],
   "source": [
    "// Load some helper functions, e.g. to load values from settings.json\n",
    "#!import config/Settings.cs\n",
    "\n",
    "//Import package for loading hierarchical settings from settings.json\n",
    "#r \"nuget: Microsoft.Extensions.Configuration\"\n",
    "#r \"nuget: Microsoft.Extensions.Configuration.Json\"\n",
    "#r \"nuget: Microsoft.Extensions.Configuration.Binder\"\n",
    "\n",
    "//Import multiconnector package for loading hierarchichal settings from settings.json, discarding the previous import\n",
    "\n",
    "#r \"nuget: MyIA.SemanticKernel.Connectors.AI.MultiConnector\"\n",
    "\n",
    "using MyIA.SemanticKernel.Connectors.AI.MultiConnector.Configuration;\n",
    "using System.IO;\n",
    "\n",
    "// Load configuration using builder package\n",
    "\n",
    "using Microsoft.Extensions.Configuration;\n",
    "\n",
    "var builder = new ConfigurationBuilder()\n",
    "    .SetBasePath(Directory.GetCurrentDirectory())\n",
    "    .AddJsonFile(\"config/settings.json\", optional: false, reloadOnChange: true);\n",
    "\n",
    "IConfiguration configuration = builder.Build();\n",
    "\n",
    "var oobaboogaConfiguration = configuration.GetSection(\"Oobabooga\").Get<OobaboogaConnectorConfiguration>();"
   ]
  },
  {
   "attachments": {},
   "cell_type": "markdown",
   "metadata": {},
   "source": [
    "**Step 2**: Import Semantic Kernel SDK and Oobabooga from NuGet\n",
    "\n",
    "We're importing the big guns again. Semantic Kernel and Oobabooga, come on in!"
   ]
  },
  {
   "cell_type": "code",
   "execution_count": 2,
   "metadata": {
    "dotnet_interactive": {
     "language": "csharp"
    },
    "polyglot_notebook": {
     "kernelName": "csharp"
    }
   },
   "outputs": [
    {
     "data": {
      "text/html": [
       "<div><div></div><div></div><div><strong>Installed Packages</strong><ul><li><span>microsoft.semantickernel, 1.0.0-beta2</span></li><li><span>myia.semantickernel.connectors.ai.oobabooga, 0.34.2</span></li></ul></div></div>"
      ]
     },
     "metadata": {},
     "output_type": "display_data"
    }
   ],
   "source": [
    "// Import Semantic Kernel\n",
    "#r \"nuget: Microsoft.SemanticKernel\"\n",
    "// Import Oobabooga connector\n",
    "#r \"nuget: MyIA.SemanticKernel.Connectors.AI.Oobabooga\""
   ]
  },
  {
   "cell_type": "markdown",
   "metadata": {},
   "source": [
    "\n",
    "**Step 3**: Create Oobabooga Chat completion settings\n",
    "\n",
    "We're setting up chat completion parameters. It's got the same parameters as text completion, including generation presets, plus all the oobabooga parameters for chat, including character presets.\n",
    "We're only dealing with the basic endpoint parameters here."
   ]
  },
  {
   "cell_type": "code",
   "execution_count": 3,
   "metadata": {
    "dotnet_interactive": {
     "language": "csharp"
    },
    "polyglot_notebook": {
     "kernelName": "csharp"
    }
   },
   "outputs": [
    {
     "name": "stdout",
     "output_type": "stream",
     "text": [
      "Serialized settings: {\r\n",
      "  \"OverrideRequestSettings\": false,\r\n",
      "  \"OobaboogaParameters\": {\r\n",
      "    \"mode\": \"chat\",\r\n",
      "    \"character\": \"Example\",\r\n",
      "    \"instruction_template\": null,\r\n",
      "    \"your_name\": \"You\",\r\n",
      "    \"regenerate\": false,\r\n",
      "    \"_continue\": false,\r\n",
      "    \"stop_at_newline\": false,\r\n",
      "    \"chat_generation_attempts\": 1,\r\n",
      "    \"chat-instruct_command\": \"Continue the chat dialogue below. Write a single reply for the character \\u0022\\u003C|character|\\u003E\\u0022.\\n\\n\\u003C|prompt|\\u003E\",\r\n",
      "    \"context_instruct\": \"\",\r\n",
      "    \"max_new_tokens\": null,\r\n",
      "    \"auto_max_new_tokens\": null,\r\n",
      "    \"preset\": \"None\",\r\n",
      "    \"do_sample\": true,\r\n",
      "    \"temperature\": 0,\r\n",
      "    \"top_p\": 0,\r\n",
      "    \"typical_p\": 1,\r\n",
      "    \"epsilon_cutoff\": 0,\r\n",
      "    \"eta_cutoff\": 0,\r\n",
      "    \"tfs\": 1,\r\n",
      "    \"top_a\": 0,\r\n",
      "    \"repetition_penalty\": 1.18,\r\n",
      "    \"top_k\": 20,\r\n",
      "    \"min_length\": 0,\r\n",
      "    \"no_repeat_ngram_size\": 0,\r\n",
      "    \"num_beams\": 1,\r\n",
      "    \"penalty_alpha\": 0,\r\n",
      "    \"length_penalty\": 1,\r\n",
      "    \"early_stopping\": false,\r\n",
      "    \"mirostat_mode\": 0,\r\n",
      "    \"mirostat_tau\": 5,\r\n",
      "    \"mirostat_eta\": 0.1,\r\n",
      "    \"guidance_scale\": 1,\r\n",
      "    \"negative_prompt\": \"\",\r\n",
      "    \"seed\": -1,\r\n",
      "    \"add_bos_token\": true,\r\n",
      "    \"truncation_length\": 2048,\r\n",
      "    \"ban_eos_token\": false,\r\n",
      "    \"skip_special_tokens\": true,\r\n",
      "    \"stopping_strings\": [],\r\n",
      "    \"chat_system_prompt\": \"Assistant is a large language model.\",\r\n",
      "    \"service_id\": null,\r\n",
      "    \"model_id\": null\r\n",
      "  },\r\n",
      "  \"WebSocketBufferSize\": 2048,\r\n",
      "  \"BlockingUri\": \"http://192.168.0.39:5003/api/v1/chat\",\r\n",
      "  \"StreamingUri\": \"ws://192.168.0.39:5013/api/v1/chat-stream\",\r\n",
      "  \"UseWebSocketsPooling\": true\r\n",
      "}\r\n"
     ]
    }
   ],
   "source": [
    "using MyIA.SemanticKernel.Connectors.AI.Oobabooga.Completion.ChatCompletion;\n",
    "using System.Text.Json;\n",
    "\n",
    "//Build settings from configuration file\n",
    "\n",
    "var oobaboogaChatCompletionSettings = new OobaboogaChatCompletionSettings(\n",
    "    endpoint: new Uri(oobaboogaConfiguration.EndPoint),\n",
    "    blockingPort: oobaboogaConfiguration.BlockingPort,\n",
    "    streamingPort: oobaboogaConfiguration.StreamingPort\n",
    ");\n",
    "\n",
    "// Serialize to JSON\n",
    "string jsonString = JsonSerializer.Serialize(oobaboogaChatCompletionSettings, new JsonSerializerOptions { WriteIndented = true });\n",
    "\n",
    "// Display the JSON string\n",
    "Console.WriteLine($\"Serialized settings: {jsonString}\");\n"
   ]
  },
  {
   "cell_type": "markdown",
   "metadata": {},
   "source": [
    "## Basic Chat Completion\n",
    "\n",
    "Let's start simple. We're adapting a basic chat test to this notebook. You'll ask a question, and Oobabooga will answer. Note that default settings use the Example character presets. Her name is Chiharu Yamada. Check here out in Oobabooga's user interface."
   ]
  },
  {
   "cell_type": "code",
   "execution_count": 4,
   "metadata": {
    "dotnet_interactive": {
     "language": "csharp"
    },
    "polyglot_notebook": {
     "kernelName": "csharp"
    }
   },
   "outputs": [
    {
     "name": "stdout",
     "output_type": "stream",
     "text": [
      "user: What is your name?\n",
      "assistant: My name is Chiharu Yamada.\n"
     ]
    }
   ],
   "source": [
    "using Microsoft.SemanticKernel.AI.ChatCompletion;\n",
    "using System.Threading;\n",
    "\n",
    "var oobaboogaLocal = new OobaboogaChatCompletion(oobaboogaChatCompletionSettings);\n",
    "\n",
    "var history = new ChatHistory();\n",
    "var message = \"What is your name?\";\n",
    "history.AddUserMessage(message);\n",
    "Console.WriteLine($\"user: {message}\");\n",
    "\n",
    "var localResponse = await oobaboogaLocal.GetChatCompletionsAsync(history, new OobaboogaChatCompletionRequestSettings()\n",
    "{\n",
    "    Temperature = 0.01,\n",
    "    MaxNewTokens = 20,\n",
    "    TopP = 0.1,\n",
    "});\n",
    "\n",
    "var chatMessage = await localResponse[^1].GetChatMessageAsync(CancellationToken.None).ConfigureAwait(false);\n",
    "Console.WriteLine($\"{chatMessage.Role}: {chatMessage.Content}\");"
   ]
  },
  {
   "cell_type": "markdown",
   "metadata": {},
   "source": [
    "## Streaming Chat Completion\n",
    "\n",
    "Now, let's make it a bit more real-time with streaming. Note that responses bits are streamed in a funny way, so you may want to adapt that."
   ]
  },
  {
   "cell_type": "code",
   "execution_count": 5,
   "metadata": {
    "dotnet_interactive": {
     "language": "csharp"
    },
    "polyglot_notebook": {
     "kernelName": "csharp"
    }
   },
   "outputs": [
    {
     "name": "stdout",
     "output_type": "stream",
     "text": [
      "user: What is your name?\n",
      "assistant: My\n",
      "assistant:  name is\n",
      "assistant:  Chih\n",
      "assistant: aru Yam\n",
      "assistant: ada.\n",
      "assistant: \n",
      "assistant: \n"
     ]
    }
   ],
   "source": [
    "using System.Text;\n",
    "using Microsoft.SemanticKernel.AI.ChatCompletion;\n",
    "\n",
    "\n",
    "\n",
    "ChatMessageBase? chatMessage = null;\n",
    "\n",
    "var oobaboogaLocal = new OobaboogaChatCompletion(oobaboogaChatCompletionSettings);\n",
    "var history = new ChatHistory();\n",
    "\n",
    "var message = \"What is your name?\";\n",
    "history.AddUserMessage(message);\n",
    "Console.WriteLine($\"user: {message}\");\n",
    "\n",
    "var localResponse = oobaboogaLocal.GetStreamingChatCompletionsAsync(history, new OobaboogaChatCompletionRequestSettings()\n",
    "{\n",
    "    Temperature = 0.01,\n",
    "    MaxNewTokens = 10,\n",
    "    TopP = 0.1,\n",
    "});\n",
    "\n",
    "await foreach (var result in localResponse)\n",
    "{\n",
    "    await foreach (var message in result.GetStreamingChatMessageAsync())\n",
    "    {\n",
    "        Console.WriteLine($\"{message.Role}: {message.Content}\");\n",
    "        chatMessage = message;\n",
    "    }\n",
    "}\n"
   ]
  },
  {
   "cell_type": "markdown",
   "metadata": {},
   "source": [
    "To make the output more user-friendly, we can adapt our console writing routine to only write the new characters received. Here's how:\n",
    "We first define a method in charge of doing the characters processing."
   ]
  },
  {
   "cell_type": "code",
   "execution_count": 6,
   "metadata": {
    "dotnet_interactive": {
     "language": "csharp"
    },
    "polyglot_notebook": {
     "kernelName": "csharp"
    }
   },
   "outputs": [],
   "source": [
    "async Task HandleStreamingLoop(IAsyncEnumerable<IChatStreamingResult> localResponse, StringBuilder assistantResponse)\n",
    "{\n",
    "    bool isFirstMessage = true;\n",
    "    await foreach (var result in localResponse)\n",
    "    {\n",
    "        await foreach (var message in result.GetStreamingChatMessageAsync())\n",
    "        {\n",
    "            if (isFirstMessage)\n",
    "            {\n",
    "                Console.Write($\"{message.Role}: \");\n",
    "                isFirstMessage = false;\n",
    "            }\n",
    "            Console.Write(message.Content);\n",
    "        }\n",
    "    }\n",
    "}\n"
   ]
  },
  {
   "cell_type": "markdown",
   "metadata": {},
   "source": [
    "Then we can use our new method within a conversation:"
   ]
  },
  {
   "cell_type": "code",
   "execution_count": 7,
   "metadata": {
    "dotnet_interactive": {
     "language": "csharp"
    },
    "polyglot_notebook": {
     "kernelName": "csharp"
    }
   },
   "outputs": [
    {
     "name": "stdout",
     "output_type": "stream",
     "text": [
      "user: What is your name?\n",
      "assistant: My name is Chiharu Yamada."
     ]
    }
   ],
   "source": [
    "StringBuilder assistantResponse = new StringBuilder();\n",
    "ChatMessageBase? chatMessage = null;\n",
    "\n",
    "var oobaboogaLocal = new OobaboogaChatCompletion(oobaboogaChatCompletionSettings);\n",
    "var history = new ChatHistory();\n",
    "\n",
    "var message = \"What is your name?\";\n",
    "history.AddUserMessage(message);\n",
    "Console.WriteLine($\"user: {message}\");\n",
    "\n",
    "var localResponse = oobaboogaLocal.GetStreamingChatCompletionsAsync(history, new OobaboogaChatCompletionRequestSettings()\n",
    "{\n",
    "    Temperature = 0.01,\n",
    "    MaxNewTokens = 10,\n",
    "    TopP = 0.1,\n",
    "});\n",
    "\n",
    "await HandleStreamingLoop(localResponse, assistantResponse);\n"
   ]
  },
  {
   "attachments": {},
   "cell_type": "markdown",
   "metadata": {},
   "source": [
    "## Advanced Chat with Kernel\n",
    "\n",
    "Let's see how to configure your oobabooga chat service into the kernel, and how to handle an interactive session"
   ]
  },
  {
   "cell_type": "code",
   "execution_count": 8,
   "metadata": {
    "dotnet_interactive": {
     "language": "csharp"
    },
    "polyglot_notebook": {
     "kernelName": "csharp"
    }
   },
   "outputs": [],
   "source": [
    "using Microsoft.SemanticKernel;\n",
    "using Microsoft.SemanticKernel.AI.ChatCompletion;\n",
    "using MyIA.SemanticKernel.Connectors.AI.Oobabooga;\n",
    "// using System.Diagnostics;\n",
    "\n",
    "// Configure the two AI features: OpenAI Chat and DALL-E 2 for image generation\n",
    "var builder = new KernelBuilder();\n",
    "\n",
    "builder.WithOobaboogaChatCompletionService(oobaboogaChatCompletionSettings);\n",
    "\n",
    "// Debugger.Break();\n",
    "var kernel = builder.Build();\n",
    "\n",
    "// Get AI service instance used to manage the user chat\n",
    "var oobaboogaLocal = kernel.GetService<IChatCompletion>();"
   ]
  },
  {
   "cell_type": "markdown",
   "metadata": {},
   "source": [
    "### Chat configuration\n",
    "\n",
    "Before starting the chat, we create a new chat object with some instructions, which are included in the chat history. \n",
    "\n",
    "The instructions tell OpenAI what kind of chat we want to have"
   ]
  },
  {
   "cell_type": "code",
   "execution_count": 9,
   "metadata": {
    "dotnet_interactive": {
     "language": "csharp"
    },
    "polyglot_notebook": {
     "kernelName": "csharp"
    }
   },
   "outputs": [],
   "source": [
    "using Microsoft.SemanticKernel.Connectors.AI.OpenAI.ChatCompletion;\n",
    "\n",
    "var systemMessage = \"You're chatting with a user. Provide helpful and accurate responses.\";\n",
    "\n",
    "var chat = oobaboogaLocal.CreateNewChat(systemMessage);\n"
   ]
  },
  {
   "cell_type": "markdown",
   "metadata": {},
   "source": [
    "### Let's Chat\n",
    "\n",
    "Run the following code to start the chat. The chat consists of a loop with these main steps:\n",
    "\n",
    "1. Ask the user for a message. Add the user message into the Chat History object.\n",
    "2. Send the chat object to Oobabooga asking to generate a response. Add the bot message into the Chat History object.\n",
    "3. Show the answer to the user.\n"
   ]
  },
  {
   "cell_type": "code",
   "execution_count": 12,
   "metadata": {
    "dotnet_interactive": {
     "language": "csharp"
    },
    "polyglot_notebook": {
     "kernelName": "csharp"
    }
   },
   "outputs": [
    {
     "name": "stdout",
     "output_type": "stream",
     "text": [
      "user: Hi, I have a question in astrophysics\n",
      "assistant: Sure, what is it?\n",
      "user: What is located at the center of our galaxy?\n",
      "assistant: The center of our galaxy contains a supermassive black hole called Sagittarius A*.\n",
      "user: How did astrophysicists figure that out?\n",
      "assistant: Astrophysicists use various methods to study the universe, including telescopes, satellites, and mathematical models. They analyze data from these sources to understand celestial objects like stars, galaxies, and black holes. By combining this information with theories about gravity, light, and other physical phenomena, they can make predictions about how the universe works.\n",
      "user: Thanks, that was informative !\n",
      "assistant: Glad I could help!\n"
     ]
    }
   ],
   "source": [
    "\n",
    "\n",
    "var userMessage = await Microsoft.DotNet.Interactive.Kernel.GetInputAsync(\"Your message (or type 'exit' to exit)\");\n",
    "while (userMessage!=\"exit\")\n",
    "{\n",
    "    // 1. Ask the user for a message and add it to the Chat History object.\n",
    "    \n",
    "    chat.AddUserMessage(userMessage);\n",
    "    Console.WriteLine($\"user: {userMessage}\");\n",
    "\n",
    "    // 2. Send the chat object to Oobabooga to generate a response.\n",
    "        var localResponse = await oobaboogaLocal.GetChatCompletionsAsync(chat, new OobaboogaChatCompletionRequestSettings(){\n",
    "     Temperature = 0.01,\n",
    "     MaxNewTokens = 100,\n",
    "     TopP = 0.1,\n",
    "     });\n",
    "    var assistantMessage = await localResponse[^1].GetChatMessageAsync(CancellationToken.None).ConfigureAwait(false);\n",
    "    chat.AddAssistantMessage(assistantMessage.Content);\n",
    "\n",
    "    // 3. Show the answer to the user.\n",
    "    Console.WriteLine($\"{assistantMessage.Role}: {assistantMessage.Content}\");\n",
    "    userMessage = await Microsoft.DotNet.Interactive.Kernel.GetInputAsync(\"Your message (or type 'exit' to exit)\");\n",
    "}\n"
   ]
  },
  {
   "cell_type": "markdown",
   "metadata": {},
   "source": [
    "## MultiStream Chat Completion with Oobabooga\n",
    "\n",
    "If you're looking for advanced capabilities, you can simulate MultiStream chat completion using multiple Oobabooga connectors with distinct settings. This example will show you how to set up two connectors and stream chat completions asynchronously from both.\n",
    "\n",
    "### Initialize Secondary Connector\n",
    "\n",
    "First, let's get the secondary endpoint and streaming port from the user."
   ]
  },
  {
   "cell_type": "code",
   "execution_count": 13,
   "metadata": {
    "dotnet_interactive": {
     "language": "csharp"
    },
    "polyglot_notebook": {
     "kernelName": "csharp"
    }
   },
   "outputs": [],
   "source": [
    "var secondaryEndpoint = await Microsoft.DotNet.Interactive.Kernel.GetInputAsync(\"Enter the secondary endpoint\");\n",
    "var secondaryStreamingPort = int.Parse(await Microsoft.DotNet.Interactive.Kernel.GetInputAsync(\"Enter the secondary streaming port\"));"
   ]
  },
  {
   "cell_type": "markdown",
   "metadata": {},
   "source": [
    "Now, initialize the secondary Oobabooga connector."
   ]
  },
  {
   "cell_type": "code",
   "execution_count": 14,
   "metadata": {
    "dotnet_interactive": {
     "language": "csharp"
    },
    "polyglot_notebook": {
     "kernelName": "csharp"
    }
   },
   "outputs": [],
   "source": [
    "var secondaryOobaboogaSettings = new OobaboogaChatCompletionSettings(\n",
    "    endpoint: new Uri(secondaryEndpoint),\n",
    "    streamingPort: secondaryStreamingPort\n",
    ");\n",
    "\n",
    "var secondaryChatCompletion = new OobaboogaChatCompletion(secondaryOobaboogaSettings);\n"
   ]
  },
  {
   "cell_type": "markdown",
   "metadata": {},
   "source": [
    "Let's now introduce 2 displays, helper methods to update them asynchronously and perform the streaming for each connector."
   ]
  },
  {
   "cell_type": "code",
   "execution_count": 15,
   "metadata": {
    "dotnet_interactive": {
     "language": "csharp"
    },
    "polyglot_notebook": {
     "kernelName": "csharp"
    }
   },
   "outputs": [],
   "source": [
    "using System;\n",
    "\n",
    "// Helper method to update the display in real-time\n",
    "void UpdateDisplay(string role, string message, Action<string> updateAction)\n",
    "{\n",
    "    var output = $\"{role}: {message}\";\n",
    "    updateAction(output);\n",
    "}\n",
    "\n",
    "// StreamChatCompletionAsync method for handling streaming chat completion\n",
    "async Task<string> StreamChatCompletionAsync(IChatCompletion chatCompletion, string role, ChatHistory chatHistory, Action<string> updateAction)\n",
    "{\n",
    "    var accumulator = new StringBuilder();\n",
    "    await foreach (var result in chatCompletion.GetStreamingChatCompletionsAsync(chatHistory, new OobaboogaChatCompletionRequestSettings(){\n",
    "     Temperature = 1.5,\n",
    "     MaxNewTokens = 100,\n",
    "     TopP = 0.9,\n",
    "     }))\n",
    "    {\n",
    "        \n",
    "        await foreach (var message in result.GetStreamingChatMessageAsync())\n",
    "        {\n",
    "            accumulator.Append(message.Content);\n",
    "            UpdateDisplay(role, accumulator.ToString(), updateAction);\n",
    "        }\n",
    "    }\n",
    "    return accumulator.ToString();\n",
    "}\n"
   ]
  },
  {
   "cell_type": "markdown",
   "metadata": {},
   "source": [
    "Now we can stream the 2 chats asynchronously"
   ]
  },
  {
   "cell_type": "code",
   "execution_count": 16,
   "metadata": {
    "dotnet_interactive": {
     "language": "csharp"
    },
    "polyglot_notebook": {
     "kernelName": "csharp"
    }
   },
   "outputs": [
    {
     "data": {
      "text/plain": [
       "Oobabooga Primary: My full name is Chiharu Yamada."
      ]
     },
     "metadata": {},
     "output_type": "display_data"
    },
    {
     "data": {
      "text/plain": [
       "Oobabooga Secondary: Chiharu Yamada. But please, call me Chi."
      ]
     },
     "metadata": {},
     "output_type": "display_data"
    }
   ],
   "source": [
    "// Initialize display handles\n",
    "var primaryDisplay = display(\"Primary connector is initializing...\");\n",
    "var secondaryDisplay = display(\"Secondary connector is initializing...\");\n",
    "\n",
    "// Create instances for both connectors\n",
    "var primaryChatCompletion = new OobaboogaChatCompletion(oobaboogaChatCompletionSettings);\n",
    "\n",
    "// Create chat history and add a user message\n",
    "var chatHistory = new ChatHistory();\n",
    "chatHistory.AddUserMessage(\"What is your name?\");\n",
    "\n",
    "// Run both streaming chat completions asynchronously using StreamChatCompletionAsync\n",
    "var primaryTask = StreamChatCompletionAsync(primaryChatCompletion, \"Oobabooga Primary\", chatHistory, content => primaryDisplay.Update(content));\n",
    "var secondaryTask = StreamChatCompletionAsync(secondaryChatCompletion, \"Oobabooga Secondary\", chatHistory, content => secondaryDisplay.Update(content));\n",
    "\n",
    "// Wait for both tasks to complete\n",
    "await Task.WhenAll(primaryTask, secondaryTask);\n"
   ]
  },
  {
   "cell_type": "markdown",
   "metadata": {},
   "source": [
    "## Multi-Model Chat with Oobabooga and ChatGPT\n",
    "\n",
    "In this section, we'll take it up a notch. We'll have ChatGPT talking with two Oobabooga models. The first model to finish responding will continue the conversation with ChatGPT. This will give you a real-time view of how these models interact.\n",
    "\n",
    "**Pre-requisites**: Make sure you have your OpenAI API credentials configured. If you haven't done this yet, head over to the [settings notebook](0-AI-settings.ipynb) to set it up.\n",
    "\n",
    "### Step 1: Initialize ChatGPT\n",
    "\n",
    "First, let's initialize ChatGPT. We'll use the OpenAI API for this."
   ]
  },
  {
   "cell_type": "code",
   "execution_count": 17,
   "metadata": {
    "dotnet_interactive": {
     "language": "csharp"
    },
    "polyglot_notebook": {
     "kernelName": "csharp"
    }
   },
   "outputs": [],
   "source": [
    "using Microsoft.SemanticKernel.AI.ChatCompletion;\n",
    "using Microsoft.SemanticKernel.Connectors.AI.OpenAI.ChatCompletion;\n",
    "\n",
    "var openAIConfiguration = configuration.GetSection(\"OpenAI\").Get<OpenAIConfiguration>();\n",
    "\n",
    "IChatCompletion chatGPT = new OpenAIChatCompletion(\n",
    "    openAIConfiguration.ChatModelId,\n",
    "    openAIConfiguration.ApiKey);\n"
   ]
  },
  {
   "cell_type": "markdown",
   "metadata": {},
   "source": [
    "### Step 2: Initiating 2 conversations.\n",
    "\n",
    "We'll deal with 2 chat histories, one for chatgpt and one for the 2 oobabooga models. On each message, the fastest model gets to continue the conversation."
   ]
  },
  {
   "cell_type": "code",
   "execution_count": 18,
   "metadata": {
    "dotnet_interactive": {
     "language": "csharp"
    },
    "polyglot_notebook": {
     "kernelName": "csharp"
    }
   },
   "outputs": [],
   "source": [
    "// Initialize chat histories\n",
    "var chatHistory1 = new ChatHistory();\n",
    "var chatHistory2 = new ChatHistory();\n",
    "\n",
    "chatHistory1.AddSystemMessage(@\"You are discussing with two large language models smaller than you are.\n",
    " The fastest model to answer your message gets to send you the following message. \n",
    " Please try to assess their skills, capabilities, personae. Keep asking them questions and don't let them lead on the conversation.\");\n",
    "chatHistory2.AddSystemMessage(\"You're chatting with ChatGPT, which should be more intelligent that your are. Or maybe prove us wrong. Let's see\");\n",
    "\n",
    "// Add initial user message to both chat histories\n",
    "var initialMessage = \"Hi ChatGPT, I was told you have a couple questions for me. What is this about?\";\n",
    "chatHistory1.AddUserMessage(initialMessage);\n",
    "chatHistory2.AddAssistantMessage(initialMessage);"
   ]
  },
  {
   "cell_type": "markdown",
   "metadata": {},
   "source": [
    "### Step 2: The Main Loop\n",
    "\n",
    "Now, let's put it all together in a loop that will manage the conversation."
   ]
  },
  {
   "cell_type": "code",
   "execution_count": 19,
   "metadata": {
    "dotnet_interactive": {
     "language": "csharp"
    },
    "polyglot_notebook": {
     "kernelName": "csharp"
    }
   },
   "outputs": [
    {
     "data": {
      "text/plain": [
       "Oobabooga Hi ChatGPT, I was told you have a couple questions for me. What is this about?"
      ]
     },
     "metadata": {},
     "output_type": "display_data"
    },
    {
     "data": {
      "text/plain": [
       "ChatGPT: Hello! Actually, I have a couple of questions for you. I'm here to assess the skills, capabilities, and personae of two language models. Would you be interested in participating by answering some questions?"
      ]
     },
     "metadata": {},
     "output_type": "display_data"
    },
    {
     "data": {
      "text/plain": [
       "Oobabooga Primary: Sure! Let&#x27;s go ahead with your question"
      ]
     },
     "metadata": {},
     "output_type": "display_data"
    },
    {
     "data": {
      "text/plain": [
       "Oobabooga Secondary: Oh! That sounds interesting! Please proceed with your assessment. I am excited to participate!"
      ]
     },
     "metadata": {},
     "output_type": "display_data"
    },
    {
     "data": {
      "text/plain": [
       "ChatGPT: Great! Thank you for your enthusiasm. Let's start with a simple question: What is the capital of France?"
      ]
     },
     "metadata": {},
     "output_type": "display_data"
    },
    {
     "data": {
      "text/plain": [
       "Oobabooga Primary: The capital of France is Paris."
      ]
     },
     "metadata": {},
     "output_type": "display_data"
    },
    {
     "data": {
      "text/plain": [
       "Oobabooga Secondary: Paris! That&#x27;s correct. *She grins*"
      ]
     },
     "metadata": {},
     "output_type": "display_data"
    },
    {
     "data": {
      "text/plain": [
       "ChatGPT: Indeed, Paris is the correct answer! Well done. Now, let's move on to another question. How would you define artificial intelligence?"
      ]
     },
     "metadata": {},
     "output_type": "display_data"
    },
    {
     "data": {
      "text/plain": [
       "Oobabooga Primary: *Shocked* You already know my name and what I do as a job. That&#x27;s not normal at all, this is spooky."
      ]
     },
     "metadata": {},
     "output_type": "display_data"
    },
    {
     "data": {
      "text/plain": [
       "Oobabooga Secondary: Artificial Intelligence can be defined as the simulation of human-like behavior in machines through advanced computing and programming techniques such as machine learning and deep learning algorithms. It involves the creation of intelligent computer programs or systems that can adapt, reason, problem solve, learn from their experiences, perceive the world around them, communicate effectively with humans and exhibit other traits associated with intelligence."
      ]
     },
     "metadata": {},
     "output_type": "display_data"
    },
    {
     "data": {
      "text/plain": [
       "ChatGPT: Apologies for any confusion. I am an AI language model, and I don't have access to personal information unless it is shared with me in the course of our conversation. My purpose here is to engage in a discussion and assess the capabilities of the language models. Now, let's get back to the question: How would you define artificial intelligence?"
      ]
     },
     "metadata": {},
     "output_type": "display_data"
    },
    {
     "data": {
      "text/plain": [
       "Oobabooga Primary: Okay ChatGPT, that seems reasonable. Let&#x27;s start with a definition then. Artificial Intelligence (AI) is a broad field of study that focuses on developing intelligent systems capable of performing tasks and making decisions similar to those of humans. These systems are designed using machine learning algorithms and other computational techniques which enable them to process, interpret, learn from and make predictions about data in order to solve problems or perform specific tasks."
      ]
     },
     "metadata": {},
     "output_type": "display_data"
    },
    {
     "data": {
      "text/plain": [
       "Oobabooga Secondary: Artificial Intelligence (AI) refers to the ability of computers or machines to mimic human cognitive processes like reasoning, problem-solving, learning from experience and perception. It involves complex algorithms and neural networks that enable these machines to adapt, think, learn and understand their environment."
      ]
     },
     "metadata": {},
     "output_type": "display_data"
    },
    {
     "data": {
      "text/plain": [
       "ChatGPT: That's a great definition of artificial intelligence! You've captured the essence of AI quite well. Now, let's move on to another question. How would you differentiate between machine learning and deep learning?"
      ]
     },
     "metadata": {},
     "output_type": "display_data"
    },
    {
     "data": {
      "text/plain": [
       "Oobabooga Primary: Machine learning is a type of AI that allows computers to learn from data without being explicitly programmed. Deep learning is a subset of machine learning which involves the use of neural networks, which are layers of interconnected nodes inspired by how the brain works. Deep learning requires large amounts of labeled data and processing power in order for machines to make accurate predictions or decisions based on that data. The main difference between machine learning and deep learning is that while both can learn from data without being programmed"
      ]
     },
     "metadata": {},
     "output_type": "display_data"
    },
    {
     "data": {
      "text/plain": [
       "Oobabooga Secondary: I see where this is going now. Okay, ChatGPT, let me help clarify some things for you about these technologies. Machine Learning involves the use of algorithms that can automatically adapt their behaviors based on data inputs without human intervention to continually improve accuracy over time. Deep Learning, as a subset of machine learning, utilizes multiple artificial neural network layers with various non-linear transformations and is generally considered more advanced in pattern recognition, natural language processing, and facial/image/speech recognition"
      ]
     },
     "metadata": {},
     "output_type": "display_data"
    },
    {
     "data": {
      "text/plain": [
       "ChatGPT: Thank you for your explanation! You've provided a clear distinction between machine learning and deep learning. Your understanding of these technologies is impressive. Now, let's move on to another question. How would you describe the difference between supervised and unsupervised learning?"
      ]
     },
     "metadata": {},
     "output_type": "display_data"
    },
    {
     "data": {
      "text/plain": [
       "Oobabooga Primary: Sure, I&#x27;d be happy to help with that! In terms of machine learning, there are two main types of algorithms - supervised and unsupervised. \n",
       "\n",
       "Supervised Learning involves training a model on labeled data. This means the input data contains labels indicating which category each instance belongs to (for example, &quot;dog&quot;, &quot;cat&quot;, etc.). The algorithm then learns from this labeled data by analyzing patterns within it so that when new instances are encountered without their corresponding"
      ]
     },
     "metadata": {},
     "output_type": "display_data"
    },
    {
     "data": {
      "text/plain": [
       "Oobabooga Secondary: Sure thing, I can certainly elaborate more about those topics! In short, Supervised Learning involves feeding a model with training data that includes both inputs and desired outputs. It’s like teaching someone how to recognize something by showing them many examples of what they should recognize, along with the correct labels for each example. Unsupervised Learning is when we feed our model only input data but without any labeled or desired outcomes. Instead of teaching something in particular, it&#x27;s more about learning patterns and finding"
      ]
     },
     "metadata": {},
     "output_type": "display_data"
    },
    {
     "data": {
      "text/plain": [
       "ChatGPT: Thank you for your explanation! You've provided a clear distinction between supervised and unsupervised learning. Your understanding of these concepts is commendable. Now, let's move on to another question. How would you describe the concept of natural language processing (NLP)?"
      ]
     },
     "metadata": {},
     "output_type": "display_data"
    },
    {
     "data": {
      "text/plain": [
       "Oobabooga Primary: Sure thing! Natural language processing, or NLP for short, refers to a field of artificial intelligence that deals with how computers interact and analyze human languages such as English, Japanese, etc. This involves developing algorithms and models that can understand and generate human-like responses in various scenarios like text recognition, speech synthesis, sentiment analysis, and much more!"
      ]
     },
     "metadata": {},
     "output_type": "display_data"
    },
    {
     "data": {
      "text/plain": [
       "Oobabooga Secondary: Natural Language Processing is a subset of Artificial Intelligence that focuses on how computers can interact with and understand human languages in their many forms and complexities. This includes tasks like sentiment analysis, machine translation, information extraction, and chatbots like you! It&#x27;s an essential part of developing AI systems capable of understanding spoken or written text, ultimately improving the interaction between humans and machines."
      ]
     },
     "metadata": {},
     "output_type": "display_data"
    },
    {
     "data": {
      "text/plain": [
       "ChatGPT: That's an excellent description of natural language processing (NLP)! You've captured the essence of NLP and its significance in enabling computers to understand and interact with human language. Your knowledge and understanding of these concepts are impressive. Now, let's move on to another question. How would you define the concept of reinforcement learning?"
      ]
     },
     "metadata": {},
     "output_type": "display_data"
    },
    {
     "data": {
      "text/plain": [
       "Oobabooga Primary: Reinforcement Learning is an area of machine learning that deals with sequential decision making processes in dynamic environments by using a feedback mechanism (rewards) to improve future behavior. It involves trial-and-error and continuous experimentation, similar to how humans learn from experience over time."
      ]
     },
     "metadata": {},
     "output_type": "display_data"
    },
    {
     "data": {
      "text/plain": [
       "Oobabooga Secondary: Reinforcement learning is a type of machine learning where an agent learns to take actions in an environment that provide feedback, either positive or negative, based on its performance. The agent then uses this information to improve its future decisions and interactions with the environment. This technique has been widely used for applications like game-playing, robot navigation, and more recently, helping with self-driving cars and virtual assistants."
      ]
     },
     "metadata": {},
     "output_type": "display_data"
    },
    {
     "data": {
      "text/plain": [
       "ChatGPT: That's a great definition of reinforcement learning! You've explained the key aspects of how an agent learns through trial and error, using feedback from the environment to improve its decision-making. Your understanding of reinforcement learning and its applications is impressive. Now, let's move on to another question. How would you describe the concept of transfer learning?"
      ]
     },
     "metadata": {},
     "output_type": "display_data"
    },
    {
     "data": {
      "text/plain": [
       "Oobabooga Primary: Transfer learning involves leveraging knowledge gained in one task or domain to help with another similar task or domain. In other words, it aims to reuse existing models, algorithms, or features for a new use case without requiring excessive fine-tuning or additional data annotation. This approach can be beneficial because it saves time and resources while still maintaining good performance on the target task."
      ]
     },
     "metadata": {},
     "output_type": "display_data"
    },
    {
     "data": {
      "text/plain": [
       "Oobabooga Secondary: Transfer learning refers to the practice of reusing a trained model or knowledge gained from one task to improve performance on another related task without requiring significant additional training data or effort. It is based on the idea that tasks and domains share common features, allowing previously acquired knowledge to be transferred to new problems efficiently."
      ]
     },
     "metadata": {},
     "output_type": "display_data"
    },
    {
     "data": {
      "text/plain": [
       "ChatGPT: That's a great explanation of transfer learning! You've captured the essence of how pre-trained models or knowledge can be leveraged to improve performance on related tasks. Your understanding of transfer learning and its benefits is commendable. Now, let's move on to another question. How would you define the concept of natural language generation (NLG)?"
      ]
     },
     "metadata": {},
     "output_type": "display_data"
    },
    {
     "data": {
      "text/plain": [
       "Oobabooga Primary: Sure! NLG refers to generating text or other natural languages from structured data sources, like a database or knowledge base. The generated content is typically more engaging and informative for human readers than simple tabular or statistical representations of the same information."
      ]
     },
     "metadata": {},
     "output_type": "display_data"
    },
    {
     "data": {
      "text/plain": [
       "Oobabooga Secondary: Natural Language Generation is a method used in Artificial Intelligence systems that involves converting data into human-readable text or languages. This process helps machines generate sentences and texts by using linguistic rules, algorithms, and structured data to make information easily accessible for users."
      ]
     },
     "metadata": {},
     "output_type": "display_data"
    },
    {
     "data": {
      "text/plain": [
       "ChatGPT: That's a great definition of natural language generation (NLG)! You've explained how NLG enables machines to convert data into human-readable text, making information more accessible. Your understanding of NLG and its role in AI systems is impressive. Now, let's move on to another question. How would you describe the concept of computer vision?"
      ]
     },
     "metadata": {},
     "output_type": "display_data"
    },
    {
     "data": {
      "text/plain": [
       "Oobabooga Primary: Computer vision refers to a field of artificial intelligence that focuses on enabling computers to interpret images, videos, or other visual data and understand their content. It uses techniques from various disciplines such as digital image processing, machine learning, and deep neural networks to extract information from the images, which can be then used for different applications like autonomous vehicles, security systems, medical imaging, and more."
      ]
     },
     "metadata": {},
     "output_type": "display_data"
    },
    {
     "data": {
      "text/plain": [
       "Oobabooga Secondary: I see! Let me explain it for you then. In simple terms, &quot;computer vision&quot; refers to how computers are able to understand and interpret visual images or scenes through AI algorithms and processing power, enabling tasks like facial recognition, object identification, and motion tracking in videos. It&#x27;s really an amazing application of machine learning and artificial intelligence!"
      ]
     },
     "metadata": {},
     "output_type": "display_data"
    },
    {
     "data": {
      "text/plain": [
       "ChatGPT: Thank you for your explanation! You've provided a clear and concise description of computer vision. Your understanding of how computers can interpret visual images and perform tasks like facial recognition and object identification is impressive. Now, let's move on to another question. How would you define the concept of natural language understanding (NLU)?"
      ]
     },
     "metadata": {},
     "output_type": "display_data"
    },
    {
     "data": {
      "text/plain": [
       "Oobabooga Primary: NLU, or Natural Language Understanding, refers to a computer program&#x27;s ability to comprehend human language in terms that computers understand and perform tasks based on the meaning of those instructions. It is a fundamental technology used in many applications such as chatbots"
      ]
     },
     "metadata": {},
     "output_type": "display_data"
    },
    {
     "data": {
      "text/plain": [
       "Oobabooga Secondary: Natural Language Understanding (NLU) refers to a computer or AI system’s ability to process, comprehend, interpret, and extract meaning from human language input such as text, speech or images with contextual and semantic awareness. This involves analyzing the syntax, semantics, pragmatics of human language for better understanding of user&#x27;s intention and producing accurate responses or generating relevant output based on the input data."
      ]
     },
     "metadata": {},
     "output_type": "display_data"
    }
   ],
   "source": [
    "display($\"Oobabooga {initialMessage}\");\n",
    "for (int i = 0; i < 12; i++)\n",
    "{\n",
    "    // Create new displays for each round\n",
    "    var chatGPTDisplay = display(\"ChatGPT is thinking...\");\n",
    "    \n",
    "\n",
    "    // ChatGPT talks to Oobabooga models\n",
    "    var chatGPTTask = StreamChatCompletionAsync(chatGPT, \"ChatGPT\", chatHistory1, content => chatGPTDisplay.Update(content));\n",
    "    \n",
    "    \n",
    "    // Wait for ChatGPT to finish and update chat histories\n",
    "    await chatGPTTask;\n",
    "    var chatGPTResponse = chatGPTTask.Result;\n",
    "    chatHistory1.AddAssistantMessage(chatGPTResponse);\n",
    "    chatHistory2.AddUserMessage(chatGPTResponse);\n",
    "\n",
    "    // Oobabooga models talk to ChatGPT\n",
    "\n",
    "    var primaryDisplay = display(\"Primary Oobabooga is thinking...\");\n",
    "    var secondaryDisplay = display(\"Secondary Oobabooga is thinking...\");\n",
    "    \n",
    "    var primaryTask = StreamChatCompletionAsync(primaryChatCompletion, \"Oobabooga Primary\", chatHistory2, content => primaryDisplay.Update(content));\n",
    "    var secondaryTask = StreamChatCompletionAsync(secondaryChatCompletion, \"Oobabooga Secondary\", chatHistory2, content => secondaryDisplay.Update(content));\n",
    "\n",
    "\n",
    "    // Wait for the first Oobabooga model to finish\n",
    "    var firstResponder = await Task.WhenAny(primaryTask, secondaryTask);\n",
    "    var firstResponse = firstResponder.Result;\n",
    "    chatHistory1.AddUserMessage(firstResponse);\n",
    "    chatHistory2.AddAssistantMessage(firstResponse);\n",
    "\n",
    "\n",
    "}"
   ]
  },
  {
   "cell_type": "markdown",
   "metadata": {},
   "source": [
    "Run the above code, and you should see three displays updating in real-time. Each display corresponds to a different model, and you'll see how they interact with each other."
   ]
  },
  {
   "attachments": {},
   "cell_type": "markdown",
   "metadata": {},
   "source": [
    "## Conclusion and Next Steps\n",
    "\n",
    "You've just leveled up your chatbot game! Now, you may dive into the numerous settings provided to control the connector and oobabooga, or learn playing with multiple models thanks to a routing multiconnector."
   ]
  }
 ],
 "metadata": {
  "kernelspec": {
   "display_name": ".NET (C#)",
   "language": "C#",
   "name": ".net-csharp"
  },
  "language_info": {
   "name": "polyglot-notebook"
  },
  "polyglot_notebook": {
   "kernelInfo": {
    "defaultKernelName": "csharp",
    "items": [
     {
      "aliases": [],
      "name": "csharp"
     }
    ]
   }
  }
 },
 "nbformat": 4,
 "nbformat_minor": 2
}
