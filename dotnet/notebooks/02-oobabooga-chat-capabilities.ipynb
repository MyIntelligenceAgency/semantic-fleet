{
 "cells": [
  {
   "attachments": {},
   "cell_type": "markdown",
   "metadata": {},
   "source": [
    "# Notebook 2: Advanced Chat Capabilities with Oobabooga\n",
    "\n",
    "## Introduction\n",
    "\n",
    "Welcome to the advanced course! We're diving into more complex chat capabilities. Hold tight!"
   ]
  },
  {
   "attachments": {},
   "cell_type": "markdown",
   "metadata": {},
   "source": [
    "## Setup\n",
    "\n",
    "Just like in Notebook 01, let's set up the environment first.\n",
    "\n",
    "**Step 1**: Configure your Oobabooga service settings\n",
    "\n",
    "Use [this notebook](0-AI-settings.ipynb) to save your Oobabooga settings in the configuration file.\n",
    "Here, we load the settings section relevant to this notebook.\n",
    "\n",
    "Note that we use the multiconnector nuget package because it provides us with helper classes to deal with Oobabooga configuration in Settings.json, but we won't be using the multiconnector capabilities apart from this."
   ]
  },
  {
   "cell_type": "code",
   "execution_count": 23,
   "metadata": {
    "dotnet_interactive": {
     "language": "csharp"
    },
    "polyglot_notebook": {
     "kernelName": "csharp"
    }
   },
   "outputs": [
    {
     "data": {
      "text/html": [
       "<div><div></div><div></div><div><strong>Installed Packages</strong><ul><li><span>Microsoft.Extensions.Configuration, 7.0.0</span></li><li><span>Microsoft.Extensions.Configuration.Binder, 7.0.4</span></li><li><span>Microsoft.Extensions.Configuration.Json, 7.0.0</span></li><li><span>MyIA.SemanticKernel.Connectors.AI.MultiConnector, 0.33.8</span></li></ul></div></div>"
      ]
     },
     "metadata": {},
     "output_type": "display_data"
    },
    {
     "ename": "Error",
     "evalue": "(95,26): error CS0029: Impossible de convertir implicitement le type 'Microsoft.DotNet.Interactive.PasswordString' en 'string'\r\n(100,26): error CS0029: Impossible de convertir implicitement le type 'Microsoft.DotNet.Interactive.PasswordString' en 'string'",
     "output_type": "error",
     "traceback": [
      "(95,26): error CS0029: Impossible de convertir implicitement le type 'Microsoft.DotNet.Interactive.PasswordString' en 'string'\r\n",
      "(100,26): error CS0029: Impossible de convertir implicitement le type 'Microsoft.DotNet.Interactive.PasswordString' en 'string'"
     ]
    }
   ],
   "source": [
    "// Load some helper functions, e.g. to load values from settings.json\n",
    "#!import config/Settings.cs\n",
    "\n",
    "//Import package for loading hierarchical settings from settings.json\n",
    "#r \"nuget: Microsoft.Extensions.Configuration\"\n",
    "#r \"nuget: Microsoft.Extensions.Configuration.Json\"\n",
    "#r \"nuget: Microsoft.Extensions.Configuration.Binder\"\n",
    "\n",
    "//Import multiconnector package for loading hierarchichal settings from settings.json, discarding the previous import\n",
    "\n",
    "#r \"nuget: MyIA.SemanticKernel.Connectors.AI.MultiConnector\"\n",
    "\n",
    "using MyIA.SemanticKernel.Connectors.AI.MultiConnector.Configuration;\n",
    "using System.IO;\n",
    "\n",
    "// Load configuration using builder package\n",
    "\n",
    "using Microsoft.Extensions.Configuration;\n",
    "\n",
    "var builder = new ConfigurationBuilder()\n",
    "    .SetBasePath(Directory.GetCurrentDirectory())\n",
    "    .AddJsonFile(\"config/settings.json\", optional: false, reloadOnChange: true);\n",
    "\n",
    "IConfiguration configuration = builder.Build();\n",
    "\n",
    "var oobaboogaConfiguration = configuration.GetSection(\"Oobabooga\").Get<OobaboogaConnectorConfiguration>();"
   ]
  },
  {
   "attachments": {},
   "cell_type": "markdown",
   "metadata": {},
   "source": [
    "**Step 2**: Import Semantic Kernel SDK and Oobabooga from NuGet\n",
    "\n",
    "We're importing the big guns again. Semantic Kernel and Oobabooga, come on in!"
   ]
  },
  {
   "cell_type": "code",
   "execution_count": 24,
   "metadata": {
    "dotnet_interactive": {
     "language": "csharp"
    },
    "polyglot_notebook": {
     "kernelName": "csharp"
    }
   },
   "outputs": [
    {
     "data": {
      "text/html": [
       "<div><div></div><div></div><div><strong>Installed Packages</strong><ul><li><span>microsoft.semantickernel, 0.24.230918.1-preview</span></li><li><span>myia.semantickernel.connectors.ai.oobabooga, 0.33.8</span></li></ul></div></div>"
      ]
     },
     "metadata": {},
     "output_type": "display_data"
    }
   ],
   "source": [
    "// Import Semantic Kernel\n",
    "#r \"nuget: Microsoft.SemanticKernel, 0.24.230918.1-preview\"\n",
    "// Import Oobabooga connector\n",
    "#r \"nuget: MyIA.SemanticKernel.Connectors.AI.Oobabooga\""
   ]
  },
  {
   "cell_type": "markdown",
   "metadata": {},
   "source": [
    "\n",
    "**Step 3**: Create Oobabooga Chat completion settings\n",
    "\n",
    "We're setting up chat completion parameters. It's got the same parameters as text completion, including generation presets, plus all the oobabooga parameters for chat, including character presets.\n",
    "We're only dealing with the basic endpoint parameters here."
   ]
  },
  {
   "cell_type": "code",
   "execution_count": 27,
   "metadata": {
    "dotnet_interactive": {
     "language": "csharp"
    },
    "polyglot_notebook": {
     "kernelName": "csharp"
    }
   },
   "outputs": [
    {
     "name": "stdout",
     "output_type": "stream",
     "text": [
      "Serialized settings: {\r\n",
      "  \"OverrideRequestSettings\": false,\r\n",
      "  \"OobaboogaParameters\": {\r\n",
      "    \"mode\": \"chat\",\r\n",
      "    \"character\": \"Example\",\r\n",
      "    \"instruction_template\": null,\r\n",
      "    \"your_name\": \"You\",\r\n",
      "    \"regenerate\": false,\r\n",
      "    \"_continue\": false,\r\n",
      "    \"stop_at_newline\": false,\r\n",
      "    \"chat_generation_attempts\": 1,\r\n",
      "    \"chat-instruct_command\": \"Continue the chat dialogue below. Write a single reply for the character \\u0022\\u003C|character|\\u003E\\u0022.\\n\\n\\u003C|prompt|\\u003E\",\r\n",
      "    \"context_instruct\": \"\",\r\n",
      "    \"max_new_tokens\": null,\r\n",
      "    \"auto_max_new_tokens\": null,\r\n",
      "    \"preset\": \"None\",\r\n",
      "    \"do_sample\": true,\r\n",
      "    \"temperature\": 0,\r\n",
      "    \"top_p\": 0,\r\n",
      "    \"typical_p\": 1,\r\n",
      "    \"epsilon_cutoff\": 0,\r\n",
      "    \"eta_cutoff\": 0,\r\n",
      "    \"tfs\": 1,\r\n",
      "    \"top_a\": 0,\r\n",
      "    \"repetition_penalty\": 1.18,\r\n",
      "    \"top_k\": 20,\r\n",
      "    \"min_length\": 0,\r\n",
      "    \"no_repeat_ngram_size\": 0,\r\n",
      "    \"num_beams\": 1,\r\n",
      "    \"penalty_alpha\": 0,\r\n",
      "    \"length_penalty\": 1,\r\n",
      "    \"early_stopping\": false,\r\n",
      "    \"mirostat_mode\": 0,\r\n",
      "    \"mirostat_tau\": 5,\r\n",
      "    \"mirostat_eta\": 0.1,\r\n",
      "    \"guidance_scale\": 1,\r\n",
      "    \"negative_prompt\": \"\",\r\n",
      "    \"seed\": -1,\r\n",
      "    \"add_bos_token\": true,\r\n",
      "    \"truncation_length\": 2048,\r\n",
      "    \"ban_eos_token\": false,\r\n",
      "    \"skip_special_tokens\": true,\r\n",
      "    \"stopping_strings\": []\r\n",
      "  },\r\n",
      "  \"WebSocketBufferSize\": 2048,\r\n",
      "  \"BlockingUri\": \"http://192.168.245.146:5003/api/v1/chat\",\r\n",
      "  \"StreamingUri\": \"ws://192.168.245.146:5013/api/v1/chat-stream\",\r\n",
      "  \"UseWebSocketsPooling\": true\r\n",
      "}\r\n"
     ]
    }
   ],
   "source": [
    "using MyIA.SemanticKernel.Connectors.AI.Oobabooga.Completion.ChatCompletion;\n",
    "using System.Text.Json;\n",
    "\n",
    "//Build settings from configuration file\n",
    "\n",
    "var oobaboogaChatCompletionSettings = new OobaboogaChatCompletionSettings(\n",
    "    endpoint: new Uri(oobaboogaConfiguration.EndPoint),\n",
    "    blockingPort: oobaboogaConfiguration.BlockingPort,\n",
    "    streamingPort: oobaboogaConfiguration.StreamingPort\n",
    ");\n",
    "\n",
    "// Serialize to JSON\n",
    "string jsonString = JsonSerializer.Serialize(oobaboogaChatCompletionSettings, new JsonSerializerOptions { WriteIndented = true });\n",
    "\n",
    "// Display the JSON string\n",
    "Console.WriteLine($\"Serialized settings: {jsonString}\");\n"
   ]
  },
  {
   "cell_type": "markdown",
   "metadata": {},
   "source": [
    "## Basic Chat Completion\n",
    "\n",
    "Let's start simple. We're adapting a basic chat test to this notebook. You'll ask a question, and Oobabooga will answer. Note that default settings use the Example character presets. Her name is Chiharu Yamada. Check here out in Oobabooga's user interface."
   ]
  },
  {
   "cell_type": "code",
   "execution_count": 28,
   "metadata": {
    "dotnet_interactive": {
     "language": "csharp"
    },
    "polyglot_notebook": {
     "kernelName": "csharp"
    }
   },
   "outputs": [
    {
     "name": "stdout",
     "output_type": "stream",
     "text": [
      "user: What is your name?\n",
      "assistant: My name is Chiharu Yamada.\n"
     ]
    }
   ],
   "source": [
    "using Microsoft.SemanticKernel.AI.ChatCompletion;\n",
    "using System.Threading;\n",
    "\n",
    "var oobaboogaLocal = new OobaboogaChatCompletion(oobaboogaChatCompletionSettings);\n",
    "\n",
    "var history = new ChatHistory();\n",
    "var message = \"What is your name?\";\n",
    "history.AddUserMessage(message);\n",
    "Console.WriteLine($\"user: {message}\");\n",
    "\n",
    "var localResponse = await oobaboogaLocal.GetChatCompletionsAsync(history, new ChatRequestSettings()\n",
    "{\n",
    "    Temperature = 0.01,\n",
    "    MaxTokens = 20,\n",
    "    TopP = 0.1,\n",
    "});\n",
    "\n",
    "var chatMessage = await localResponse[^1].GetChatMessageAsync(CancellationToken.None).ConfigureAwait(false);\n",
    "Console.WriteLine($\"{chatMessage.Role}: {chatMessage.Content}\");"
   ]
  },
  {
   "cell_type": "markdown",
   "metadata": {},
   "source": [
    "## Streaming Chat Completion\n",
    "\n",
    "Now, let's make it a bit more real-time with streaming. Note that responses bits are streamed in a funny way, so you may want to adapt that."
   ]
  },
  {
   "cell_type": "code",
   "execution_count": 29,
   "metadata": {
    "dotnet_interactive": {
     "language": "csharp"
    },
    "polyglot_notebook": {
     "kernelName": "csharp"
    }
   },
   "outputs": [
    {
     "name": "stdout",
     "output_type": "stream",
     "text": [
      "user: What is your name?\n",
      "assistant: My\n",
      "assistant:  name\n",
      "assistant:  is\n",
      "assistant:  Ch\n",
      "assistant: ih\n",
      "assistant: aru\n",
      "assistant:  Yamada\n",
      "assistant: .\n",
      "assistant: \n"
     ]
    }
   ],
   "source": [
    "using System.Text;\n",
    "using Microsoft.SemanticKernel.AI.ChatCompletion;\n",
    "\n",
    "\n",
    "\n",
    "ChatMessageBase? chatMessage = null;\n",
    "\n",
    "var oobaboogaLocal = new OobaboogaChatCompletion(oobaboogaChatCompletionSettings);\n",
    "var history = new ChatHistory();\n",
    "\n",
    "var message = \"What is your name?\";\n",
    "history.AddUserMessage(message);\n",
    "Console.WriteLine($\"user: {message}\");\n",
    "\n",
    "var localResponse = oobaboogaLocal.GetStreamingChatCompletionsAsync(history, new ChatRequestSettings()\n",
    "{\n",
    "    Temperature = 0.01,\n",
    "    MaxTokens = 10,\n",
    "    TopP = 0.1,\n",
    "});\n",
    "\n",
    "await foreach (var result in localResponse)\n",
    "{\n",
    "    await foreach (var message in result.GetStreamingChatMessageAsync())\n",
    "    {\n",
    "        Console.WriteLine($\"{message.Role}: {message.Content}\");\n",
    "        chatMessage = message;\n",
    "    }\n",
    "}\n"
   ]
  },
  {
   "cell_type": "markdown",
   "metadata": {},
   "source": [
    "To make the output more user-friendly, we can adapt our console writing routine to only write the new characters received. Here's how:\n",
    "We first define a method in charge of doing the characters processing."
   ]
  },
  {
   "cell_type": "code",
   "execution_count": 30,
   "metadata": {
    "dotnet_interactive": {
     "language": "csharp"
    },
    "polyglot_notebook": {
     "kernelName": "csharp"
    }
   },
   "outputs": [],
   "source": [
    "async Task HandleStreamingLoop(IAsyncEnumerable<IChatStreamingResult> localResponse, StringBuilder assistantResponse)\n",
    "{\n",
    "    bool isFirstMessage = true;\n",
    "    await foreach (var result in localResponse)\n",
    "    {\n",
    "        await foreach (var message in result.GetStreamingChatMessageAsync())\n",
    "        {\n",
    "            if (isFirstMessage)\n",
    "            {\n",
    "                Console.Write($\"{message.Role}: \");\n",
    "                isFirstMessage = false;\n",
    "            }\n",
    "            Console.Write(message.Content);\n",
    "        }\n",
    "    }\n",
    "}\n"
   ]
  },
  {
   "cell_type": "markdown",
   "metadata": {},
   "source": [
    "Then we can use our new method within a conversation:"
   ]
  },
  {
   "cell_type": "code",
   "execution_count": 31,
   "metadata": {
    "dotnet_interactive": {
     "language": "csharp"
    },
    "polyglot_notebook": {
     "kernelName": "csharp"
    }
   },
   "outputs": [
    {
     "name": "stdout",
     "output_type": "stream",
     "text": [
      "user: What is your name?\n",
      "assistant: My name is Chiharu Yamada."
     ]
    }
   ],
   "source": [
    "StringBuilder assistantResponse = new StringBuilder();\n",
    "ChatMessageBase? chatMessage = null;\n",
    "\n",
    "var oobaboogaLocal = new OobaboogaChatCompletion(oobaboogaChatCompletionSettings);\n",
    "var history = new ChatHistory();\n",
    "\n",
    "var message = \"What is your name?\";\n",
    "history.AddUserMessage(message);\n",
    "Console.WriteLine($\"user: {message}\");\n",
    "\n",
    "var localResponse = oobaboogaLocal.GetStreamingChatCompletionsAsync(history, new ChatRequestSettings()\n",
    "{\n",
    "    Temperature = 0.01,\n",
    "    MaxTokens = 10,\n",
    "    TopP = 0.1,\n",
    "});\n",
    "\n",
    "await HandleStreamingLoop(localResponse, assistantResponse);\n"
   ]
  },
  {
   "attachments": {},
   "cell_type": "markdown",
   "metadata": {},
   "source": [
    "## Advanced Chat with Kernel\n",
    "\n",
    "Let's see how to configure your oobabooga chat service into the kernel, and how to handle an interactive session"
   ]
  },
  {
   "cell_type": "code",
   "execution_count": 32,
   "metadata": {
    "dotnet_interactive": {
     "language": "csharp"
    },
    "polyglot_notebook": {
     "kernelName": "csharp"
    }
   },
   "outputs": [],
   "source": [
    "using Microsoft.SemanticKernel;\n",
    "using Microsoft.SemanticKernel.AI.ChatCompletion;\n",
    "using MyIA.SemanticKernel.Connectors.AI.Oobabooga;\n",
    "// using System.Diagnostics;\n",
    "\n",
    "// Configure the two AI features: OpenAI Chat and DALL-E 2 for image generation\n",
    "var builder = new KernelBuilder();\n",
    "\n",
    "builder.WithOobaboogaChatCompletionService(oobaboogaChatCompletionSettings);\n",
    "\n",
    "// Debugger.Break();\n",
    "var kernel = builder.Build();\n",
    "\n",
    "// Get AI service instance used to manage the user chat\n",
    "var oobaboogaLocal = kernel.GetService<IChatCompletion>();"
   ]
  },
  {
   "cell_type": "markdown",
   "metadata": {},
   "source": [
    "### Chat configuration\n",
    "\n",
    "Before starting the chat, we create a new chat object with some instructions, which are included in the chat history. \n",
    "\n",
    "The instructions tell OpenAI what kind of chat we want to have"
   ]
  },
  {
   "cell_type": "code",
   "execution_count": 33,
   "metadata": {
    "dotnet_interactive": {
     "language": "csharp"
    },
    "polyglot_notebook": {
     "kernelName": "csharp"
    }
   },
   "outputs": [],
   "source": [
    "using Microsoft.SemanticKernel.Connectors.AI.OpenAI.ChatCompletion;\n",
    "\n",
    "var systemMessage = \"You're chatting with a user. Provide helpful and accurate responses.\";\n",
    "\n",
    "var chat = oobaboogaLocal.CreateNewChat(systemMessage);\n"
   ]
  },
  {
   "cell_type": "markdown",
   "metadata": {},
   "source": [
    "### Let's Chat\n",
    "\n",
    "Run the following code to start the chat. The chat consists of a loop with these main steps:\n",
    "\n",
    "1. Ask the user for a message. Add the user message into the Chat History object.\n",
    "2. Send the chat object to Oobabooga asking to generate a response. Add the bot message into the Chat History object.\n",
    "3. Show the answer to the user.\n"
   ]
  },
  {
   "cell_type": "code",
   "execution_count": 40,
   "metadata": {
    "dotnet_interactive": {
     "language": "csharp"
    },
    "polyglot_notebook": {
     "kernelName": "csharp"
    }
   },
   "outputs": [
    {
     "name": "stdout",
     "output_type": "stream",
     "text": [
      "user: I have a question in astrophysics\n",
      "assistant: Oh, I&#x27;m not an expert in astrophysics, but I&#x27;m always interested in learning new things.\n",
      "user: What is the mysterious object located at the center of our galaxy?\n",
      "assistant: The mysterious object at the center of our galaxy is called Sagittarius A* (pronounced &quot;Sagittarius A-star&quot;). It is a supermassive black hole with a mass of about 4 million times the mass of our sun.\n",
      "user: How did we detect and learn about it?\n",
      "assistant: We detected it through the use of telescopes and other astronomical instruments.\n"
     ]
    }
   ],
   "source": [
    "\n",
    "\n",
    "var userMessage = await Microsoft.DotNet.Interactive.Kernel.GetInputAsync(\"Your message (or type 'exit' to exit)\");\n",
    "while (userMessage!=\"exit\")\n",
    "{\n",
    "    // 1. Ask the user for a message and add it to the Chat History object.\n",
    "    \n",
    "    chat.AddUserMessage(userMessage);\n",
    "    Console.WriteLine($\"user: {userMessage}\");\n",
    "\n",
    "    // 2. Send the chat object to Oobabooga to generate a response.\n",
    "        var localResponse = await oobaboogaLocal.GetChatCompletionsAsync(chat, new ChatRequestSettings(){\n",
    "     Temperature = 0.01,\n",
    "     MaxTokens = 100,\n",
    "     TopP = 0.1,\n",
    "     });\n",
    "    var assistantMessage = await localResponse[^1].GetChatMessageAsync(CancellationToken.None).ConfigureAwait(false);\n",
    "    chat.AddAssistantMessage(assistantMessage.Content);\n",
    "\n",
    "    // 3. Show the answer to the user.\n",
    "    Console.WriteLine($\"{assistantMessage.Role}: {assistantMessage.Content}\");\n",
    "    userMessage = await Microsoft.DotNet.Interactive.Kernel.GetInputAsync(\"Your message (or type 'exit' to exit)\");\n",
    "}\n"
   ]
  },
  {
   "cell_type": "markdown",
   "metadata": {},
   "source": [
    "## MultiStream Chat Completion with Oobabooga\n",
    "\n",
    "If you're looking for advanced capabilities, you can simulate MultiStream chat completion using multiple Oobabooga connectors with distinct settings. This example will show you how to set up two connectors and stream chat completions asynchronously from both.\n",
    "\n",
    "### Initialize Secondary Connector\n",
    "\n",
    "First, let's get the secondary endpoint and streaming port from the user."
   ]
  },
  {
   "cell_type": "code",
   "execution_count": 45,
   "metadata": {
    "dotnet_interactive": {
     "language": "csharp"
    },
    "polyglot_notebook": {
     "kernelName": "csharp"
    }
   },
   "outputs": [],
   "source": [
    "var secondaryEndpoint = await Microsoft.DotNet.Interactive.Kernel.GetInputAsync(\"Enter the secondary endpoint\");\n",
    "var secondaryStreamingPort = int.Parse(await Microsoft.DotNet.Interactive.Kernel.GetInputAsync(\"Enter the secondary streaming port\"));"
   ]
  },
  {
   "cell_type": "markdown",
   "metadata": {},
   "source": [
    "Now, initialize the secondary Oobabooga connector."
   ]
  },
  {
   "cell_type": "code",
   "execution_count": 46,
   "metadata": {
    "dotnet_interactive": {
     "language": "csharp"
    },
    "polyglot_notebook": {
     "kernelName": "csharp"
    }
   },
   "outputs": [],
   "source": [
    "var secondaryOobaboogaSettings = new OobaboogaChatCompletionSettings(\n",
    "    endpoint: new Uri(secondaryEndpoint),\n",
    "    streamingPort: secondaryStreamingPort\n",
    ");\n",
    "\n",
    "var secondaryChatCompletion = new OobaboogaChatCompletion(secondaryOobaboogaSettings);\n"
   ]
  },
  {
   "cell_type": "markdown",
   "metadata": {},
   "source": [
    "Let's now introduce 2 displays, helper methods to update them asynchronously and perform the streaming for each connector."
   ]
  },
  {
   "cell_type": "code",
   "execution_count": 47,
   "metadata": {
    "dotnet_interactive": {
     "language": "csharp"
    },
    "polyglot_notebook": {
     "kernelName": "csharp"
    }
   },
   "outputs": [],
   "source": [
    "using System;\n",
    "\n",
    "// Helper method to update the display in real-time\n",
    "void UpdateDisplay(string role, string message, Action<string> updateAction)\n",
    "{\n",
    "    var output = $\"{role}: {message}\";\n",
    "    updateAction(output);\n",
    "}\n",
    "\n",
    "// StreamChatCompletionAsync method for handling streaming chat completion\n",
    "async Task<string> StreamChatCompletionAsync(IChatCompletion chatCompletion, string role, ChatHistory chatHistory, Action<string> updateAction)\n",
    "{\n",
    "    var accumulator = new StringBuilder();\n",
    "    await foreach (var result in chatCompletion.GetStreamingChatCompletionsAsync(chatHistory, new ChatRequestSettings(){\n",
    "     Temperature = 1.5,\n",
    "     MaxTokens = 100,\n",
    "     TopP = 0.9,\n",
    "     }))\n",
    "    {\n",
    "        \n",
    "        await foreach (var message in result.GetStreamingChatMessageAsync())\n",
    "        {\n",
    "            accumulator.Append(message.Content);\n",
    "            UpdateDisplay(role, accumulator.ToString(), updateAction);\n",
    "        }\n",
    "    }\n",
    "    return accumulator.ToString();\n",
    "}\n"
   ]
  },
  {
   "cell_type": "markdown",
   "metadata": {},
   "source": [
    "Now we can stream the 2 chats asynchronously"
   ]
  },
  {
   "cell_type": "code",
   "execution_count": 48,
   "metadata": {
    "dotnet_interactive": {
     "language": "csharp"
    },
    "polyglot_notebook": {
     "kernelName": "csharp"
    }
   },
   "outputs": [
    {
     "data": {
      "text/plain": [
       "Oobabooga Primary: My name is Chiharu Yamada."
      ]
     },
     "metadata": {},
     "output_type": "display_data"
    },
    {
     "data": {
      "text/plain": [
       "Oobabooga Secondary: It&#x27;s Chiharu Yamada. Nice to meet you!"
      ]
     },
     "metadata": {},
     "output_type": "display_data"
    }
   ],
   "source": [
    "// Initialize display handles\n",
    "var primaryDisplay = display(\"Primary connector is initializing...\");\n",
    "var secondaryDisplay = display(\"Secondary connector is initializing...\");\n",
    "\n",
    "// Create instances for both connectors\n",
    "var primaryChatCompletion = new OobaboogaChatCompletion(oobaboogaChatCompletionSettings);\n",
    "\n",
    "// Create chat history and add a user message\n",
    "var chatHistory = new ChatHistory();\n",
    "chatHistory.AddUserMessage(\"What is your name?\");\n",
    "\n",
    "// Run both streaming chat completions asynchronously using StreamChatCompletionAsync\n",
    "var primaryTask = StreamChatCompletionAsync(primaryChatCompletion, \"Oobabooga Primary\", chatHistory, content => primaryDisplay.Update(content));\n",
    "var secondaryTask = StreamChatCompletionAsync(secondaryChatCompletion, \"Oobabooga Secondary\", chatHistory, content => secondaryDisplay.Update(content));\n",
    "\n",
    "// Wait for both tasks to complete\n",
    "await Task.WhenAll(primaryTask, secondaryTask);\n"
   ]
  },
  {
   "cell_type": "markdown",
   "metadata": {},
   "source": [
    "## Multi-Model Chat with Oobabooga and ChatGPT\n",
    "\n",
    "In this section, we'll take it up a notch. We'll have ChatGPT talking with two Oobabooga models. The first model to finish responding will continue the conversation with ChatGPT. This will give you a real-time view of how these models interact.\n",
    "\n",
    "**Pre-requisites**: Make sure you have your OpenAI API credentials configured. If you haven't done this yet, head over to the [settings notebook](0-AI-settings.ipynb) to set it up.\n",
    "\n",
    "### Step 1: Initialize ChatGPT\n",
    "\n",
    "First, let's initialize ChatGPT. We'll use the OpenAI API for this."
   ]
  },
  {
   "cell_type": "code",
   "execution_count": 49,
   "metadata": {
    "dotnet_interactive": {
     "language": "csharp"
    },
    "polyglot_notebook": {
     "kernelName": "csharp"
    }
   },
   "outputs": [],
   "source": [
    "using Microsoft.SemanticKernel.AI.ChatCompletion;\n",
    "using Microsoft.SemanticKernel.Connectors.AI.OpenAI.ChatCompletion;\n",
    "\n",
    "var openAIConfiguration = configuration.GetSection(\"OpenAI\").Get<OpenAIConfiguration>();\n",
    "\n",
    "IChatCompletion chatGPT = new OpenAIChatCompletion(\n",
    "    openAIConfiguration.ChatModelId,\n",
    "    openAIConfiguration.ApiKey);\n"
   ]
  },
  {
   "cell_type": "markdown",
   "metadata": {},
   "source": [
    "### Step 2: Initiating 2 conversations.\n",
    "\n",
    "We'll deal with 2 chat histories, one for chatgpt and one for the 2 oobabooga models. On each message, the fastest model gets to continue the conversation."
   ]
  },
  {
   "cell_type": "code",
   "execution_count": 50,
   "metadata": {
    "dotnet_interactive": {
     "language": "csharp"
    },
    "polyglot_notebook": {
     "kernelName": "csharp"
    }
   },
   "outputs": [],
   "source": [
    "// Initialize chat histories\n",
    "var chatHistory1 = new ChatHistory();\n",
    "var chatHistory2 = new ChatHistory();\n",
    "\n",
    "chatHistory1.AddSystemMessage(@\"You are discussing with two large language models smaller than you are.\n",
    " The fastest model to answer your message gets to send you the following message. \n",
    " Please try to assess their skills, capabilities, personae. Keep asking them questions and don't let them lead on the conversation.\");\n",
    "chatHistory2.AddSystemMessage(\"You're chatting with ChatGPT, which should be more intelligent that your are. Or maybe prove us wrong. Let's see\");\n",
    "\n",
    "// Add initial user message to both chat histories\n",
    "var initialMessage = \"Hi ChatGPT, I was told you have a couple questions for me. What is this about?\";\n",
    "chatHistory1.AddUserMessage(initialMessage);\n",
    "chatHistory2.AddAssistantMessage(initialMessage);"
   ]
  },
  {
   "cell_type": "markdown",
   "metadata": {},
   "source": [
    "### Step 2: The Main Loop\n",
    "\n",
    "Now, let's put it all together in a loop that will manage the conversation."
   ]
  },
  {
   "cell_type": "code",
   "execution_count": 51,
   "metadata": {
    "dotnet_interactive": {
     "language": "csharp"
    },
    "polyglot_notebook": {
     "kernelName": "csharp"
    }
   },
   "outputs": [
    {
     "data": {
      "text/plain": [
       "Oobabooga Hi ChatGPT, I was told you have a couple questions for me. What is this about?"
      ]
     },
     "metadata": {},
     "output_type": "display_data"
    },
    {
     "data": {
      "text/plain": [
       "ChatGPT: Hello! I actually have a couple of questions for you to assess your capabilities. Can you tell me about your programming skills and experience?"
      ]
     },
     "metadata": {},
     "output_type": "display_data"
    },
    {
     "data": {
      "text/plain": [
       "Oobabooga Primary: Sure, I have strong programming skills and experience with multiple languages, including Java, C++, Python, and HTML. I&#x27;ve also worked on several projects involving machine learning and AI. How can I help you further?"
      ]
     },
     "metadata": {},
     "output_type": "display_data"
    },
    {
     "data": {
      "text/plain": [
       "Oobabooga Secondary: Oh, sure. I&#x27;m proficient in several programming languages such as C, C++, Python, and Java. I&#x27;ve developed several applications and worked on various projects, including a game, a home automation system, and even a simple weather application."
      ]
     },
     "metadata": {},
     "output_type": "display_data"
    },
    {
     "data": {
      "text/plain": [
       "ChatGPT: That's impressive! It seems like you have a good range of programming skills and experience. How would you describe your problem-solving abilities? Have you faced any particularly challenging problems while working on your projects?"
      ]
     },
     "metadata": {},
     "output_type": "display_data"
    },
    {
     "data": {
      "text/plain": [
       "Oobabooga Primary: As an engineer, I believe problem-solving is a core skill, and it&#x27;s something I work on continuously. I&#x27;ve faced many challenging problems throughout my career, and I&#x27;ve learned a lot from each one. I take a step-by-step approach to problem-solving, breaking it down into smaller tasks and tackling them methodically. It&#x27;s always exciting to see the problem start to come together."
      ]
     },
     "metadata": {},
     "output_type": "display_data"
    },
    {
     "data": {
      "text/plain": [
       "Oobabooga Secondary: My problem-solving abilities are a combination of critical thinking, patience, and an understanding of how different components of a system work together. As for challenging problems, I&#x27;ve faced situations where I had to troubleshoot complex issues in various software systems. One example is a time when I had to identify and fix a memory leak in a large-scale database application. It was tricky, but I eventually managed to solve it by carefully analyzing the problem and working step by step through each"
      ]
     },
     "metadata": {},
     "output_type": "display_data"
    },
    {
     "data": {
      "text/plain": [
       "ChatGPT: That's excellent! Problem-solving skills and the ability to troubleshoot complex issues are definitely valuable in the world of programming. It's great to hear that you were able to successfully identify and fix a memory leak in a large-scale database application. How do you stay up-to-date with the latest advancements in programming and technology? Do you actively engage in any communities or follow specific resources?"
      ]
     },
     "metadata": {},
     "output_type": "display_data"
    },
    {
     "data": {
      "text/plain": [
       "Oobabooga Primary: Hi, ChatGPT. Thank you for the compliments! To stay up-to-date with the latest advancements in programming and technology, I actively engage in communities such as forums, online groups, and developer conferences. I also follow industry experts, blogs, and websites that provide insights and updates on the latest trends and advancements. Additionally, I attend coding workshops and courses to enhance my knowledge and skills in the field"
      ]
     },
     "metadata": {},
     "output_type": "display_data"
    },
    {
     "data": {
      "text/plain": [
       "Oobabooga Secondary: Thanks! I&#x27;m a strong believer in continuous learning and I always stay updated with the latest developments in programming and technology. I subscribe to various tech-related podcasts, newsletters, and social media feeds. Also, I attend tech meetups and conferences to stay in tune with what&#x27;s happening in the industry. This allows me to stay connected and up-to-date with the rapidly changing field."
      ]
     },
     "metadata": {},
     "output_type": "display_data"
    },
    {
     "data": {
      "text/plain": [
       "ChatGPT: That's fantastic! It's great to hear that you actively engage with various resources and communities to stay up-to-date. Attending tech meetups and conferences can be an excellent way to network and gain valuable insights from industry experts. On that note, have you contributed to any open-source projects or collaborated with other developers?"
      ]
     },
     "metadata": {},
     "output_type": "display_data"
    },
    {
     "data": {
      "text/plain": [
       "Oobabooga Primary: As an AI language model, I don&#x27;t have personal experience in contributing to open-source projects or collaborating with other developers, but I have the ability to gather information from a wide range of resources and provide insights to those who are interested in doing so. It&#x27;s always a good idea to reach out to others and collaborate on projects, as it can help expand your knowledge and skills while also building relationships with like-minded individuals."
      ]
     },
     "metadata": {},
     "output_type": "display_data"
    },
    {
     "data": {
      "text/plain": [
       "Oobabooga Secondary: Oh, absolutely! I&#x27;ve contributed to several open-source projects, and I&#x27;ve even helped create a few. I believe collaboration and sharing knowledge is vital in our industry."
      ]
     },
     "metadata": {},
     "output_type": "display_data"
    },
    {
     "data": {
      "text/plain": [
       "ChatGPT: That's wonderful to hear! Collaborating on open-source projects is a great way to contribute to the programming community and make a positive impact. It demonstrates your ability to work with others and share your knowledge. Switching gears a bit, can you tell me about a time when you had to work on a tight deadline and how you managed to deliver the project successfully?"
      ]
     },
     "metadata": {},
     "output_type": "display_data"
    },
    {
     "data": {
      "text/plain": [
       "Oobabooga Primary: Certainly, a few months ago I was working on a project that required me to implement a new feature for a web application. I was given a tight deadline to complete the task, which was just two weeks. To ensure that I met the deadline, I broke the project into smaller, manageable tasks and prioritized the tasks that needed to be done first. I then created a timeline for each task and stuck to it religiously. Additionally, I stayed in constant communication"
      ]
     },
     "metadata": {},
     "output_type": "display_data"
    },
    {
     "data": {
      "text/plain": [
       "Oobabooga Secondary: *Nods* Yes, I remember that. One of my most memorable projects involved working with a team to design and build a custom computer system for a school&#x27;s new research facility. The deadline was incredibly tight, as we only had three weeks to finish it. To manage our time efficiently, we broke down the project into smaller tasks and assigned roles to each team member. We also worked extra hours to complete the project before the deadline. Thankfully, our teamwork and dedication paid"
      ]
     },
     "metadata": {},
     "output_type": "display_data"
    },
    {
     "data": {
      "text/plain": [
       "ChatGPT: That sounds like quite the challenging project, especially with a tight deadline. Breaking down tasks and assigning roles is a great way to stay organized and ensure efficient progress. It's impressive that your team worked extra hours and successfully delivered the project before the deadline. On a different note, what motivates you to pursue a career in programming and technology? Is there a particular aspect or area that you find most interesting?"
      ]
     },
     "metadata": {},
     "output_type": "display_data"
    },
    {
     "data": {
      "text/plain": [
       "Oobabooga Primary: As a programmer, what are your thoughts on the current trends and developments in the tech industry? Are there any emerging technologies or techniques that you find particularly fascinating or promising? Additionally, how do you stay up-to-date with the latest trends and developments? Do you actively participate in conferences or workshops, or do you rely on online resources and communities?\n"
      ]
     },
     "metadata": {},
     "output_type": "display_data"
    },
    {
     "data": {
      "text/plain": [
       "Oobabooga Secondary: Oh, I understand. Yeah, as a computer engineer, my job requires me to work on various projects, including programming. I find the entire field of technology fascinating because it constantly evolves and has a massive impact on our daily lives. What particularly interests me is finding new solutions and inventions that help us in various aspects, from improving communication to creating innovative gadgets. It&#x27;s exciting to think that the work we do today can shape the world of tomorrow."
      ]
     },
     "metadata": {},
     "output_type": "display_data"
    },
    {
     "data": {
      "text/plain": [
       "ChatGPT: That's a great perspective to have! The constantly evolving nature of technology certainly offers a wide range of opportunities for innovation and impact. It's inspiring to hear that you are motivated by the potential to create solutions and inventions that can improve various aspects of our lives. Do you have any specific areas within technology that you're particularly passionate about or would like to explore further in your career?"
      ]
     },
     "metadata": {},
     "output_type": "display_data"
    },
    {
     "data": {
      "text/plain": [
       "Oobabooga Primary: As an engineer, I&#x27;m interested in anything that has to do with computer hardware, from motherboards to processors and memory. But lately, I&#x27;ve been focusing on artificial intelligence (AI) and machine learning (ML). It&#x27;s fascinating how AI and ML can be used to automate processes and improve decision-making. I&#x27;m also excited about the potential applications of AI in fields such as healthcare, education, and transportation.\n"
      ]
     },
     "metadata": {},
     "output_type": "display_data"
    },
    {
     "data": {
      "text/plain": [
       "Oobabooga Secondary: Absolutely, I&#x27;m really interested in developing AI and machine learning technologies that could help make our world more efficient, sustainable, and comfortable. There are so many possibilities when it comes to integrating these technologies into everyday life, and it&#x27;s really exciting to think about how they can shape the future."
      ]
     },
     "metadata": {},
     "output_type": "display_data"
    },
    {
     "data": {
      "text/plain": [
       "ChatGPT: That's a fantastic area of interest! AI and machine learning have immense potential to revolutionize various industries and improve efficiency and sustainability. It's great to hear that you are passionate about exploring these technologies and their practical applications in making the world a better place. Thank you for sharing your thoughts and experiences with me. Is there anything else you'd like to discuss or any questions you have for me?"
      ]
     },
     "metadata": {},
     "output_type": "display_data"
    },
    {
     "data": {
      "text/plain": [
       "Oobabooga Primary: As an AI, you have unique insights and abilities to process information and learn from data in a way that humans cannot. Can you share any recent advancements or discoveries in the field of AI and machine learning that you find particularly exciting?"
      ]
     },
     "metadata": {},
     "output_type": "display_data"
    },
    {
     "data": {
      "text/plain": [
       "Oobabooga Secondary: Oh, interesting! I didn&#x27;t expect such a deep conversation about technology and AI. So, how do you learn about all this stuff?"
      ]
     },
     "metadata": {},
     "output_type": "display_data"
    },
    {
     "data": {
      "text/plain": [
       "ChatGPT: As an AI language model, I don't learn in the same way humans do. I was trained on a large dataset consisting of diverse text from the internet, which helps me generate responses and provide information across a wide range of topics. However, I don't have direct experiences or personal opinions. Instead, I aim to assist users by providing helpful and relevant information based on patterns and knowledge contained in the training data. Is there anything specific you'd like to know or discuss further?"
      ]
     },
     "metadata": {},
     "output_type": "display_data"
    },
    {
     "data": {
      "text/plain": [
       "Oobabooga Primary: Oh, that makes sense. I was just joking around, but you took it seriously! I&#x27;ll go back to the original question now.\n"
      ]
     },
     "metadata": {},
     "output_type": "display_data"
    },
    {
     "data": {
      "text/plain": [
       "Oobabooga Secondary: That&#x27;s really interesting! Can you tell me more about how AI models like you are created?"
      ]
     },
     "metadata": {},
     "output_type": "display_data"
    },
    {
     "data": {
      "text/plain": [
       "ChatGPT: Certainly! AI models like me, specifically the OpenAI GPT (Generative Pre-trained Transformer) models, are created through a process called pre-training and fine-tuning.\n",
       "\n",
       "During the pre-training phase, the model is exposed to a large corpus of text data from the internet. It learns to predict the next word in a sentence, thereby developing an understanding of grammar, context, and even some world knowledge. This pre-training phase helps in building a foundation of language understanding.\n",
       "\n",
       "After pre-training, the"
      ]
     },
     "metadata": {},
     "output_type": "display_data"
    },
    {
     "data": {
      "text/plain": [
       "Oobabooga Primary: Oh, wow! That&#x27;s so cool. I always thought you were just programmed with a lot of knowledge. I&#x27;m learning a lot from this chat!"
      ]
     },
     "metadata": {},
     "output_type": "display_data"
    },
    {
     "data": {
      "text/plain": [
       "Oobabooga Secondary: Oh wow! That&#x27;s really cool!"
      ]
     },
     "metadata": {},
     "output_type": "display_data"
    },
    {
     "data": {
      "text/plain": [
       "ChatGPT: I'm glad you find it fascinating! AI models like mine have indeed opened up new possibilities in various fields, including natural language processing, information retrieval, and even creative writing. If you have any more questions or if there's anything specific you'd like to discuss, feel free to let me know!"
      ]
     },
     "metadata": {},
     "output_type": "display_data"
    },
    {
     "data": {
      "text/plain": [
       "Oobabooga Primary: Thank you for the response! I&#x27;ve always been interested in artificial intelligence and its applications, especially in the field of computer engineering. Can you explain a bit more about how machine learning and natural language processing are used in your model?\n"
      ]
     },
     "metadata": {},
     "output_type": "display_data"
    },
    {
     "data": {
      "text/plain": [
       "Oobabooga Secondary: Oh, wow! That sounds amazing. So, have you encountered any limitations or challenges during your development process?"
      ]
     },
     "metadata": {},
     "output_type": "display_data"
    },
    {
     "data": {
      "text/plain": [
       "ChatGPT: Absolutely! Like any technology, AI models have their limitations and challenges. One challenge is the potential for bias in the training data, which can influence the responses generated by the model. Efforts are made to address this issue and mitigate biases as much as possible. Additionally, AI models may sometimes provide responses that sound plausible but are factually incorrect. Contextual understanding and reasoning abilities can still be areas where improvements are needed.\n",
       "\n",
       "Furthermore, these models do not possess real-world experiences or consciousness and can only generate"
      ]
     },
     "metadata": {},
     "output_type": "display_data"
    },
    {
     "data": {
      "text/plain": [
       "Oobabooga Primary: Sure, I understand that. That&#x27;s why it&#x27;s important to continuously improve AI models and address these challenges."
      ]
     },
     "metadata": {},
     "output_type": "display_data"
    },
    {
     "data": {
      "text/plain": [
       "Oobabooga Secondary: That&#x27;s really interesting. I never knew there were so many challenges involved with AI. What do you think will be the future of AI technology and its impact on society?"
      ]
     },
     "metadata": {},
     "output_type": "display_data"
    }
   ],
   "source": [
    "display($\"Oobabooga {initialMessage}\");\n",
    "for (int i = 0; i < 12; i++)\n",
    "{\n",
    "    // Create new displays for each round\n",
    "    var chatGPTDisplay = display(\"ChatGPT is thinking...\");\n",
    "    \n",
    "\n",
    "    // ChatGPT talks to Oobabooga models\n",
    "    var chatGPTTask = StreamChatCompletionAsync(chatGPT, \"ChatGPT\", chatHistory1, content => chatGPTDisplay.Update(content));\n",
    "    \n",
    "    \n",
    "    // Wait for ChatGPT to finish and update chat histories\n",
    "    await chatGPTTask;\n",
    "    var chatGPTResponse = chatGPTTask.Result;\n",
    "    chatHistory1.AddAssistantMessage(chatGPTResponse);\n",
    "    chatHistory2.AddUserMessage(chatGPTResponse);\n",
    "\n",
    "    // Oobabooga models talk to ChatGPT\n",
    "\n",
    "    var primaryDisplay = display(\"Primary Oobabooga is thinking...\");\n",
    "    var secondaryDisplay = display(\"Secondary Oobabooga is thinking...\");\n",
    "    \n",
    "    var primaryTask = StreamChatCompletionAsync(primaryChatCompletion, \"Oobabooga Primary\", chatHistory2, content => primaryDisplay.Update(content));\n",
    "    var secondaryTask = StreamChatCompletionAsync(secondaryChatCompletion, \"Oobabooga Secondary\", chatHistory2, content => secondaryDisplay.Update(content));\n",
    "\n",
    "\n",
    "    // Wait for the first Oobabooga model to finish\n",
    "    var firstResponder = await Task.WhenAny(primaryTask, secondaryTask);\n",
    "    var firstResponse = firstResponder.Result;\n",
    "    chatHistory1.AddUserMessage(firstResponse);\n",
    "    chatHistory2.AddAssistantMessage(firstResponse);\n",
    "\n",
    "\n",
    "}"
   ]
  },
  {
   "cell_type": "markdown",
   "metadata": {},
   "source": [
    "Run the above code, and you should see three displays updating in real-time. Each display corresponds to a different model, and you'll see how they interact with each other."
   ]
  },
  {
   "attachments": {},
   "cell_type": "markdown",
   "metadata": {},
   "source": [
    "## Conclusion and Next Steps\n",
    "\n",
    "You've just leveled up your chatbot game! Now, you may dive into the numerous settings provided to control the connector and oobabooga, or learn playing with multiple models thanks to a routing multiconnector."
   ]
  }
 ],
 "metadata": {
  "kernelspec": {
   "display_name": ".NET (C#)",
   "language": "C#",
   "name": ".net-csharp"
  },
  "language_info": {
   "name": "polyglot-notebook"
  },
  "polyglot_notebook": {
   "kernelInfo": {
    "defaultKernelName": "csharp",
    "items": [
     {
      "aliases": [],
      "name": "csharp"
     }
    ]
   }
  }
 },
 "nbformat": 4,
 "nbformat_minor": 2
}
