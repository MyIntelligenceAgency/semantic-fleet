{
 "cells": [
  {
   "attachments": {},
   "cell_type": "markdown",
   "metadata": {},
   "source": [
    "# Notebook 3: Understanding Multi-Connector Text Completion with Arithmetic Mocks\n",
    "\n",
    "## Introduction\n",
    "\n",
    "In this notebook, we'll explore the capabilities of the Multi-Connector package for text completion, using simple test connectors that were introduce to demonstrate the general behavior.\n",
    "\n",
    "We create Artithmetic capable text completion connectors. Those connectors support all or some of the 4 basic arithmetic operations. They can also answer to a prompt asking to vet the result of such a connector, by computing the result and comparing the connector's answer.\n",
    "\n",
    "A multiconnector is then created with one slow artihmetic connector capable of all operations, and several cheaper connectors capable of only one basic operation each.\n",
    "The Multiconnector is capable of testing the various connectors, and eventually routing arithmetic operations from the slow connector to the cheapest specialized connectors. \n",
    "\n",
    "This will set the stage for more advanced use-cases involving real large and small LLMs performing real world semantic functions.\n",
    "\n",
    "## Setup\n",
    "\n",
    "Import Semantic Kernel SDK and Multi-Connector from NuGet"
   ]
  },
  {
   "cell_type": "code",
   "execution_count": null,
   "metadata": {
    "dotnet_interactive": {
     "language": "csharp"
    },
    "polyglot_notebook": {
     "kernelName": "csharp"
    }
   },
   "outputs": [],
   "source": [
    "// Import Semantic Kernel\n",
    "#r \"nuget: Microsoft.SemanticKernel, [Your_Version]\"\n",
    "// Import Multi-Connector\n",
    "#r \"nuget: MyIA.SemanticKernel.Connectors.AI.MultiConnector, [Your_Version]\""
   ]
  },
  {
   "cell_type": "markdown",
   "metadata": {},
   "source": [
    "## Creating the connectors characteristics\n",
    "\n",
    "We define a series of variable to represent the capabilities of our mode. We want a primary connector that is more capable but slower and more expensive than our specialized secondary connectors.\n",
    "We also define how the multiconnector should prioritize performance gains, by assigning weights to cost and duration gains.\n",
    "We'll see later how this affects the multiconnector's routing decisions."
   ]
  },
  {
   "cell_type": "code",
   "execution_count": null,
   "metadata": {
    "dotnet_interactive": {
     "language": "csharp"
    },
    "polyglot_notebook": {
     "kernelName": "csharp"
    }
   },
   "outputs": [],
   "source": [
    "//Defining primary and secondary characteristics\n",
    "var primaryDuration = 20; // in milliseconds effectively awaited for\n",
    "var secondaryDuration = 2;\n",
    "var primaryCost = 0.02m;\n",
    "var secondaryCost = 0.01m;\n",
    "\n",
    "// Defining how the multiconnector should prioritize performance gains\n",
    "var durationWeight = 1;\n",
    "var costWeight = 1;"
   ]
  },
  {
   "cell_type": "markdown",
   "metadata": {},
   "source": [
    "## Creating the Settings\n",
    "\n",
    "Here, we configure settings to enable analysis and let the connector discover the best settings. We only require 1 test for vetting as it is easy to figure operands that properly disciminate between the 4 basic arithmetic operations."
   ]
  },
  {
   "cell_type": "code",
   "execution_count": null,
   "metadata": {
    "dotnet_interactive": {
     "language": "csharp"
    },
    "polyglot_notebook": {
     "kernelName": "csharp"
    }
   },
   "outputs": [],
   "source": [
    "using MyIA.SemanticKernel.Connectors.AI.MultiConnector;\n",
    "using MyIA.SemanticKernel.Connectors.AI.MultiConnector.Analysis;\n",
    "using System.IO;\n",
    "\n",
    "//We configure settings to enable analysis, and let the connector discover the best settings, updating on the fly and deleting analysis file \n",
    "var settings = new MultiTextCompletionSettings()\n",
    "{\n",
    "    AnalysisSettings = new MultiCompletionAnalysisSettings()\n",
    "    {\n",
    "        EnableAnalysis = true,\n",
    "        NbPromptTests = 1,\n",
    "        AnalysisAwaitsManualTrigger = true,\n",
    "        AnalysisDelay = TimeSpan.Zero,\n",
    "        TestsPeriod = TimeSpan.Zero,\n",
    "        EvaluationPeriod = TimeSpan.Zero,\n",
    "        SuggestionPeriod = TimeSpan.Zero,\n",
    "        UpdateSuggestedSettings = true,\n",
    "        //Uncomment the following lines for additional debugging information\n",
    "        DeleteAnalysisFile = false,\n",
    "        SaveSuggestedSettings = true\n",
    "    },\n",
    "    PromptTruncationLength = 11,\n",
    "    ConnectorComparer = MultiTextCompletionSettings.GetWeightedConnectorComparer(durationWeight, costWeight),\n",
    "    // Uncomment to enable additional logging of MultiTextCompletion calls, results and/or test sample collection\n",
    "    LogCallResult = true,\n",
    "    //LogTestCollection = true,\n",
    "};\n",
    "\n",
    "// Cleanup in case the previous test failed to delete the analysis file\n",
    "if (File.Exists(settings.AnalysisSettings.AnalysisFilePath))\n",
    "{\n",
    "    File.Delete(settings.AnalysisSettings.AnalysisFilePath);\n",
    "\n",
    "    display($\"Deleted preexisting analysis file: {settings.AnalysisSettings.AnalysisFilePath}\");\n",
    "}"
   ]
  },
  {
   "cell_type": "markdown",
   "metadata": {},
   "source": [
    "## Creating Arithmetic Connectors\n",
    "\n",
    "We create one slow, omnipotent arithmetic connector and four fast, specialized arithmetic connectors.\n",
    "We can define a method that creates the connectors from their characteritics. "
   ]
  },
  {
   "cell_type": "code",
   "execution_count": null,
   "metadata": {
    "dotnet_interactive": {
     "language": "csharp"
    },
    "polyglot_notebook": {
     "kernelName": "csharp"
    }
   },
   "outputs": [],
   "source": [
    "using Microsoft.SemanticKernel.AI.TextCompletion;\n",
    "using MyIA.SemanticKernel.Connectors.AI.MultiConnector;\n",
    "using MyIA.SemanticKernel.Connectors.AI.MultiConnector.ArithmeticMocks;\n",
    "\n",
    "//Method to build the completion connectors according to characteristics and settings\n",
    "\n",
    "public List<NamedTextCompletion> CreateCompletions(MultiTextCompletionSettings settings, TimeSpan primaryCallDuration, \n",
    "    decimal primaryCostPerRequest, TimeSpan secondaryCallDuration, decimal secondaryCostPerRequest, CallRequestCostCreditor? creditor)\n",
    "{\n",
    "    var toReturn = new List<NamedTextCompletion>();\n",
    "\n",
    "    //Build primary connectors with default multi-operation engine\n",
    "    var primaryConnector = new ArithmeticCompletionService(settings,\n",
    "        new List<ArithmeticOperation>() { ArithmeticOperation.Add, ArithmeticOperation.Divide, ArithmeticOperation.Multiply, ArithmeticOperation.Subtract },\n",
    "        new(),\n",
    "        primaryCallDuration,\n",
    "        primaryCostPerRequest, creditor);\n",
    "    var primaryCompletion = new NamedTextCompletion(\"Primary\", primaryConnector)\n",
    "    {\n",
    "        CostPerRequest = primaryCostPerRequest,\n",
    "    };\n",
    "\n",
    "    toReturn.Add(primaryCompletion);\n",
    "\n",
    "    //Build secondary specialized connectors, specialized single-operation engine\n",
    "    foreach (var operation in primaryConnector.SupportedOperations)\n",
    "    {\n",
    "        var secondaryConnector = new ArithmeticCompletionService(settings,\n",
    "            new List<ArithmeticOperation>() { operation },\n",
    "            new ArithmeticEngine()\n",
    "            {\n",
    "                ComputeFunc = (arithmeticOperation, operand1, operand2) => ArithmeticEngine.Compute(operation, operand1, operand2)\n",
    "            },\n",
    "            secondaryCallDuration,\n",
    "            secondaryCostPerRequest, creditor);\n",
    "        var secondaryCompletion = new NamedTextCompletion($\"Secondary - {operation}\", secondaryConnector)\n",
    "        {\n",
    "            CostPerRequest = secondaryCostPerRequest\n",
    "        };\n",
    "\n",
    "        toReturn.Add(secondaryCompletion);\n",
    "    }\n",
    "\n",
    "    return toReturn;\n",
    "}\n",
    "\n",
    "\n",
    "// We configure a primary completion with default performances and cost, secondary completion have a gain of 2 in performances and in cost, but they can only handle a single operation each\n",
    "\n",
    "var creditor = new CallRequestCostCreditor();\n",
    "\n",
    "var completions = CreateCompletions(settings, TimeSpan.FromMilliseconds(primaryDuration), primaryCost, \n",
    "    TimeSpan.FromMilliseconds(secondaryDuration), secondaryCost, creditor);"
   ]
  },
  {
   "cell_type": "markdown",
   "metadata": {},
   "source": [
    "## Creating the operation computing completion Jobs\n",
    "\n",
    "We create jobs that will be used to test the connectors.\n",
    "We create a method that returns completion jobs from the operands.\n",
    "We then call that method with operands that properly disciminate accross basic operations.\n",
    "We figured 8 and 2 are good operands since we have: 8+2=10 != 8*2=16 != 8-2=6 != 8/2=4 "
   ]
  },
  {
   "cell_type": "code",
   "execution_count": null,
   "metadata": {
    "dotnet_interactive": {
     "language": "csharp"
    },
    "polyglot_notebook": {
     "kernelName": "csharp"
    }
   },
   "outputs": [],
   "source": [
    "    // Method to create sample prompts\n",
    "    protected CompletionJob[] CreateSampleJobs(ArithmeticOperation[] operations, int operand1, int operand2)\n",
    "    {\n",
    "        var requestSettings = new CompleteRequestSettings()\n",
    "        {\n",
    "            Temperature = 0,\n",
    "            MaxTokens = 10\n",
    "        };\n",
    "        var prompts = operations.Select(op => ArithmeticEngine.GeneratePrompt(op, operand1, operand2)).ToArray();\n",
    "        return prompts.Select(p => new CompletionJob(p, requestSettings)).ToArray();\n",
    "    }\n",
    "\n",
    "    // Using the method with 8 and 2\n",
    "\n",
    "     var completionJobs = CreateSampleJobs(Enum.GetValues(typeof(ArithmeticOperation)).Cast<ArithmeticOperation>().ToArray(), 8, 2);"
   ]
  },
  {
   "cell_type": "markdown",
   "metadata": {},
   "source": [
    "## Creating a Job Running Helper Method\n",
    "\n",
    "This helper method will run the completion jobs and collect the results."
   ]
  },
  {
   "cell_type": "code",
   "execution_count": null,
   "metadata": {
    "dotnet_interactive": {
     "language": "csharp"
    },
    "polyglot_notebook": {
     "kernelName": "csharp"
    }
   },
   "outputs": [],
   "source": [
    "using System.Diagnostics;\n",
    "\n",
    "public static async Task<List<(string result, TimeSpan duration, decimal expectedCost)>> RunPromptsAsync(CompletionJob[] completionJobs, MultiTextCompletion multiConnector, Func<string, string, decimal> completionCostFunction)\n",
    "{\n",
    "    List<(string result, TimeSpan duration, decimal expectedCost)> toReturn = new();\n",
    "    foreach (var job in completionJobs)\n",
    "    {\n",
    "        var stopWatch = Stopwatch.StartNew();\n",
    "        var result = await multiConnector.CompleteAsync(job.Prompt, job.RequestSettings).ConfigureAwait(false);\n",
    "        stopWatch.Stop();\n",
    "        var duration = stopWatch.Elapsed;\n",
    "        var cost = completionCostFunction(job.Prompt, result);\n",
    "        toReturn.Add((result, duration, cost));\n",
    "    }\n",
    "\n",
    "    return toReturn;\n",
    "}"
   ]
  },
  {
   "cell_type": "markdown",
   "metadata": {},
   "source": [
    "## Creating the MultiCompletion and Setting Up Events\n",
    "\n",
    "Here, we create the MultiCompletion instance and set up events to capture optimization results."
   ]
  },
  {
   "cell_type": "code",
   "execution_count": null,
   "metadata": {
    "dotnet_interactive": {
     "language": "csharp"
    },
    "polyglot_notebook": {
     "kernelName": "csharp"
    }
   },
   "outputs": [],
   "source": [
    "var multiConnector = new MultiTextCompletion(settings, completions[0], this.CleanupToken.Token, loggerFactory: this.TestOutputHelper, otherCompletions: completions.Skip(1).ToArray());\n",
    "\n",
    "// Create a task completion source to signal the completion of the optimization\n",
    "var optimizationCompletedTaskSource = new TaskCompletionSource<SuggestionCompletedEventArgs>();\n",
    "\n",
    "// Subscribe to the OptimizationCompleted event\n",
    "settings.AnalysisSettings.SuggestionCompleted += (sender, args) =>\n",
    "{\n",
    "    // Signal the completion of the optimization\n",
    "    optimizationCompletedTaskSource.SetResult(args);\n",
    "};\n",
    "\n",
    "// Subscribe to the OptimizationCompleted event\n",
    "settings.AnalysisSettings.AnalysisTaskCrashed += (sender, args) =>\n",
    "{\n",
    "    // Signal the completion of the optimization\n",
    "    optimizationCompletedTaskSource.SetException(args.CrashEvent.Exception);\n",
    "};"
   ]
  },
  {
   "cell_type": "markdown",
   "metadata": {},
   "source": [
    "## Running the First Pass and Collecting Results\n",
    "\n",
    "We run the first pass, which involves running the jobs with the primary connector, collecting samples, running tests on those samples on the secondary connectors, and evaluating the results using vetting capabilities, and optimizing settings accordingly. "
   ]
  },
  {
   "cell_type": "code",
   "execution_count": null,
   "metadata": {
    "dotnet_interactive": {
     "language": "csharp"
    },
    "polyglot_notebook": {
     "kernelName": "csharp"
    }
   },
   "outputs": [],
   "source": [
    "settings.EnablePromptSampling = true;\n",
    "\n",
    "var primaryResults = await RunPromptsAsync(completionJobs, multiConnector, completions[0].GetCost).ConfigureAwait(false);\n",
    "\n",
    "var firstPassEffectiveCost = creditor.OngoingCost;\n",
    "decimal firstPassExpectedCost = primaryResults.Sum(tuple => tuple.expectedCost);\n",
    "//We remove the first prompt in time measurement because it is longer on first pass due to warmup\n",
    "var firstPassDurationAfterWarmup = TimeSpan.FromTicks(primaryResults.Skip(1).Sum(tuple => tuple.duration.Ticks));\n",
    "\n",
    "// We disable prompt sampling to ensure no other tests are generated\n",
    "settings.EnablePromptSampling = false;\n",
    "\n",
    "// release optimization task\n",
    "settings.AnalysisSettings.AnalysisAwaitsManualTrigger = false;\n",
    "settings.AnalysisSettings.ReleaseAnalysisTasks();\n",
    "// Get the optimization results\n",
    "var optimizationResults = await optimizationCompletedTaskSource.Task.ConfigureAwait(false);"
   ]
  },
  {
   "cell_type": "markdown",
   "metadata": {},
   "source": [
    "## Running the Second Pass and Collecting Results\n",
    "\n",
    "After optimization, we run the second pass to see how well the MultiConnector performs, using optimized settings."
   ]
  },
  {
   "cell_type": "code",
   "execution_count": null,
   "metadata": {
    "dotnet_interactive": {
     "language": "csharp"
    },
    "polyglot_notebook": {
     "kernelName": "csharp"
    }
   },
   "outputs": [],
   "source": [
    " creditor.Reset();\n",
    "\n",
    " // Redo the same requests with the new settings\n",
    " var secondaryResults = await RunPromptsAsync(completionJobs, multiConnector, (s, s1) => expectedCost).ConfigureAwait(false);\n",
    " decimal secondPassExpectedCost = secondaryResults.Sum(tuple => tuple.expectedCost);\n",
    " var secondPassEffectiveCost = creditor.OngoingCost;\n",
    "\n",
    " //We also remove the first prompt in time measurement on second pass to align comparison\n",
    "\n",
    " var secondPassDurationAfterWarmup = TimeSpan.FromTicks(secondaryResults.Skip(1).Sum(tuple => tuple.duration.Ticks));"
   ]
  },
  {
   "cell_type": "markdown",
   "metadata": {},
   "source": [
    "## Asserting the optimization succeeded\n",
    "\n",
    "From all the collected evidence, we can now verify that our multiconnector did optimize the computation cost using the appropriate secondary connectors. "
   ]
  },
  {
   "cell_type": "code",
   "execution_count": null,
   "metadata": {
    "dotnet_interactive": {
     "language": "csharp"
    },
    "polyglot_notebook": {
     "kernelName": "csharp"
    }
   },
   "outputs": [],
   "source": [
    " // Asserting results are correct:\n",
    " \n",
    " for (int index = 0; index < completionJobs.Length; index++)\n",
    " {\n",
    "     string? prompt = completionJobs[index].Prompt;\n",
    "     var parsed = ArithmeticEngine.ParsePrompt(prompt);\n",
    "     var realResult = ArithmeticEngine.Compute(parsed.operation, parsed.operand1, parsed.operand2).ToString(CultureInfo.InvariantCulture);\n",
    "     display($\"Prompt: {prompt}, Real result: {realResult}, First pass result: {primaryResults[index].result}, Second pass result: {secondaryResults[index].result}\");\n",
    " }\n",
    "\n",
    "// Asserting cost gains are as expected\n",
    "\n",
    "display($\"First pass expected cost: {firstPassExpectedCost}, First pass effective cost: {firstPassEffectiveCost}\");\n",
    "display($\"Second pass expected cost: {secondPassExpectedCost}, Second pass effective cost: {secondPassEffectiveCost}\");\n",
    " \n",
    "// Asserting duration gains are as expected\n",
    "\n",
    "display($\"First pass duration: {firstPassDurationAfterWarmup}, Second pass duration: {secondPassDurationAfterWarmup}\");"
   ]
  },
  {
   "cell_type": "markdown",
   "metadata": {},
   "source": [
    "## Conclusion\n",
    "\n",
    "We've successfully demonstrated how the Multi-Connector can optimize costs and performance by routing operations to the most specialized connectors. This sets the stage for more advanced scenarios where we'll offload semantic functions from larger models to smaller, specialized ones."
   ]
  }
 ],
 "metadata": {
  "kernelspec": {
   "display_name": ".NET (C#)",
   "language": "C#",
   "name": ".net-csharp"
  },
  "language_info": {
   "name": "polyglot-notebook"
  },
  "polyglot_notebook": {
   "kernelInfo": {
    "defaultKernelName": "csharp",
    "items": [
     {
      "aliases": [],
      "name": "csharp"
     }
    ]
   }
  }
 },
 "nbformat": 4,
 "nbformat_minor": 2
}
