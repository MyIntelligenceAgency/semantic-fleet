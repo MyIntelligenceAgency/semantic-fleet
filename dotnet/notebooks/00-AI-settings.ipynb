{
 "cells": [
  {
   "attachments": {},
   "cell_type": "markdown",
   "metadata": {},
   "source": [
    "Before starting we need to setup some configuration, like which AI backend to use.\n",
    "\n",
    "When using the kernel for AI requests, the kernel needs some settings like URL and\n",
    "credentials to the AI models. We will need access to one or several Oobabooga models, and to an OpenAI model for multiconnector advanced chat tests.\n",
    "\n",
    "The following code will ask a few questions and save the settings to a local\n",
    "[config/settings.json](config/settings.json) configuration file, under the [config](config) folder. \n",
    "Alternatively, rename and edit the [config/settings.example.json](config/settings.example.json) file.\n",
    "**Please keep the file safe.**"
   ]
  },
  {
   "cell_type": "markdown",
   "metadata": {},
   "source": [
    "### Step 1 Import configuration packages and classes\n",
    "\n",
    "In order to build the settings file, we need a couple helpers."
   ]
  },
  {
   "cell_type": "code",
   "execution_count": 3,
   "metadata": {
    "dotnet_interactive": {
     "language": "csharp"
    },
    "polyglot_notebook": {
     "kernelName": "csharp"
    },
    "vscode": {
     "languageId": "polyglot-notebook"
    }
   },
   "outputs": [
    {
     "data": {
      "text/html": [
       "<div><div></div><div></div><div><strong>Installed Packages</strong><ul><li><span>Microsoft.Extensions.Configuration, 8.0.0-rc.1.23419.4</span></li><li><span>Microsoft.Extensions.Configuration.Binder, 8.0.0-rc.1.23419.4</span></li><li><span>Microsoft.Extensions.Configuration.Json, 8.0.0-rc.1.23419.4</span></li><li><span>MyIA.SemanticKernel.Connectors.AI.MultiConnector, 0.33.6</span></li></ul></div></div>"
      ]
     },
     "metadata": {},
     "output_type": "display_data"
    }
   ],
   "source": [
    "//Install Nuget Packages\n",
    "#r \"nuget: Microsoft.Extensions.Configuration\"\n",
    "#r \"nuget: Microsoft.Extensions.Configuration.Json\"\n",
    "#r \"nuget: Microsoft.Extensions.Configuration.Binder\"\n",
    "\n",
    "//Load support classes\n",
    "#!import config/Settings.cs\n",
    "#r \"nuget: MyIA.SemanticKernel.Connectors.AI.MultiConnector\"\n",
    "\n",
    "// Create a dictionary to hold all configurations\n",
    "var allConfigs = new Dictionary<string, object>();"
   ]
  },
  {
   "attachments": {},
   "cell_type": "markdown",
   "metadata": {},
   "source": [
    "### Step 2 Define your OpenAI configuration\n",
    "\n",
    "Enter your OpenAI credentials.\n",
    "ChatGPT will be used to chat with Oobabooga in advanced Oobabooga chat capabilities tests, and as a primary connector for the multiconnector tests.\n",
    "If you only plan on testing Oobabooga completion on its own, you can skip this step.\n",
    "\n",
    "Run the following code. If you need to find the value and copy and paste, you can\n",
    "re-run the code and continue from where you left off."
   ]
  },
  {
   "cell_type": "code",
   "execution_count": 2,
   "metadata": {
    "dotnet_interactive": {
     "language": "csharp"
    },
    "polyglot_notebook": {
     "kernelName": "csharp"
    },
    "vscode": {
     "languageId": "polyglot-notebook"
    }
   },
   "outputs": [],
   "source": [
    "using MyIA.SemanticKernel.Connectors.AI.MultiConnector.Configuration;\n",
    "\n",
    "// Creating the Open AI configuration object\n",
    "var openAIConfig = new OpenAIConfiguration();\n",
    "allConfigs.Add(\"OpenAI\", openAIConfig);\n",
    "\n",
    "// Asking for the Open AI API key\n",
    "\n",
    "var openAIKey = await InteractiveKernel.GetInputAsync(\"Please enter your OpenAI API key\");\n",
    "openAIConfig.ApiKey = openAIKey;\n",
    "\n",
    "openAIConfig.ModelId = \"text-davinci-003\";\n",
    "openAIConfig.ChatModelId = \"gpt-3.5-turbo\";\n"
   ]
  },
  {
   "cell_type": "markdown",
   "metadata": {},
   "source": [
    "### Step 3 Define your primary Oobabooga configuration\n",
    "\n",
    "To test Ooobabooga completion providers, define your Oobabooga endpoint settings. You can skip this part if you want to skip testing the oobabooga connector indivudally and you want to use oobabooga as part of a multiconnector where ChatGPT serves the role of a primary connector.\n",
    "\n",
    "Run the following code. If you need to find the value and copy and paste, you can\n",
    "re-run the code and continue from where you left off."
   ]
  },
  {
   "cell_type": "code",
   "execution_count": null,
   "metadata": {
    "dotnet_interactive": {
     "language": "csharp"
    },
    "polyglot_notebook": {
     "kernelName": "csharp"
    },
    "vscode": {
     "languageId": "polyglot-notebook"
    }
   },
   "outputs": [],
   "source": [
    "using MyIA.SemanticKernel.Connectors.AI.MultiConnector.Configuration;\n",
    "\n",
    "// Creating the Oobabooga AI configuration object\n",
    "var oobaboogaConfig = new OobaboogaConnectorConfiguration();\n",
    "allConfigs.Add(\"Oobabooga\", oobaboogaConfig);\n",
    "\n",
    "var oobaboogaEndpoint = await InteractiveKernel.GetInputAsync(\"Please enter your Oobabooga endpoint\");\n",
    "oobaboogaConfig.EndPoint = oobaboogaEndpoint;\n",
    "\n",
    "var oobaboogaBlockingPort = await InteractiveKernel.GetInputAsync(\"Please enter your Oobabooga API Blocking port (default 5000)\");\n",
    "oobaboogaConfig.BlockingPort = int.Parse(oobaboogaBlockingPort);\n",
    "\n",
    "var oobaboogaStreamingPort = await InteractiveKernel.GetInputAsync(\"Please enter your Oobabooga API Streaming port (default 5005)\");\n",
    "oobaboogaConfig.StreamingPort = int.Parse(oobaboogaStreamingPort);\n",
    "\n"
   ]
  },
  {
   "cell_type": "markdown",
   "metadata": {},
   "source": [
    "### Step 4 Define your Multiconnector secondary Oobabooga connectors\n",
    "\n",
    "To test the multiconnector, your OpenAI model will be used as a primary connector.\n",
    "Now you need to define the settings for all your Oobabooga secondary connectors: they will be similar to your primary Oobabooga connector, but you must give them names (typically those of the corresponding models).\n",
    "\n",
    "Run the following code. If you need to find the value and copy and paste, you can\n",
    "re-run the code and continue from where you left off."
   ]
  },
  {
   "cell_type": "code",
   "execution_count": null,
   "metadata": {
    "dotnet_interactive": {
     "language": "csharp"
    },
    "polyglot_notebook": {
     "kernelName": "csharp"
    },
    "vscode": {
     "languageId": "polyglot-notebook"
    }
   },
   "outputs": [],
   "source": [
    "using MyIA.SemanticKernel.Connectors.AI.MultiConnector.Configuration;\n",
    "\n",
    "// Creating a MultiConnector configuration object\n",
    "var multiOobaboogaConfig = new MultiOobaboogaConnectorConfiguration();\n",
    "allConfigs.Add(\"MultiConnector\", multiOobaboogaConfig);\n",
    "\n",
    "var defaultEndpoint = await InteractiveKernel.GetInputAsync(\"Enter the default endpoint for your Oobabooga connectors\");\n",
    "multiOobaboogaConfig.OobaboogaEndPoint = defaultEndpoint;\n",
    "string addMore = \"yes\";\n",
    "while (addMore.ToLower() == \"yes\")\n",
    "{\n",
    "    var connectorName = await InteractiveKernel.GetInputAsync(\"Please enter the name of this secondary Oobabooga connector\");\n",
    "    var blockingPort = await InteractiveKernel.GetInputAsync(\"Please enter the Blocking Port for this connector (default 5000)\");\n",
    "    var streamingPort = await InteractiveKernel.GetInputAsync(\"Please enter the Streaming Port for this connector (default 5005)\");\n",
    "    var endpoint = await InteractiveKernel.GetInputAsync(\"If different from the default, please enter the endpoint for this connector, otherwise press space and enter\");\n",
    "    var strIsChat = await InteractiveKernel.GetInputAsync(\"One last question, was this model trained for chat specifically? (yes/no)\");\n",
    "    var isChat = strIsChat.ToLower() == \"yes\"; \n",
    "    var newConnector = new OobaboogaConnectorConfiguration\n",
    "    {\n",
    "        Name = connectorName,\n",
    "        BlockingPort = int.Parse(blockingPort),\n",
    "        StreamingPort = int.Parse(streamingPort),\n",
    "        UseChatCompletion = isChat\n",
    "    };\n",
    "    if (!string.IsNullOrEmpty(endpoint.Trim()))\n",
    "    {\n",
    "        newConnector.EndPoint = endpoint;\n",
    "    }\n",
    "    \n",
    "    multiOobaboogaConfig.OobaboogaCompletions.Add(newConnector);\n",
    "    multiOobaboogaConfig.IncludedConnectors.Add(connectorName);\n",
    "\n",
    "    addMore = await InteractiveKernel.GetInputAsync(\"Would you like to add another connector? (yes/no)\");\n",
    "}\n"
   ]
  },
  {
   "cell_type": "markdown",
   "metadata": {},
   "source": [
    "### Step 4: Save Configuration to `settings.json`\n",
    "\n",
    "This should be enough to get started. Your settings will be saved to [config/settings.json](config/settings.json). You may want to add more parameters depending on your model. Look at the setting.json file in the multiconnector integration test for an example on how to refine your settings."
   ]
  },
  {
   "cell_type": "code",
   "execution_count": null,
   "metadata": {
    "dotnet_interactive": {
     "language": "csharp"
    },
    "polyglot_notebook": {
     "kernelName": "csharp"
    },
    "vscode": {
     "languageId": "polyglot-notebook"
    }
   },
   "outputs": [],
   "source": [
    "using System.Text.Json;\n",
    "using System.IO;\n",
    "\n",
    "// Serialize the dictionary to JSON\n",
    "string jsonString = JsonSerializer.Serialize(allConfigs, new JsonSerializerOptions { WriteIndented = true });\n",
    "\n",
    "// Save the JSON string to settings.json\n",
    "File.WriteAllText(\"config/settings.json\", jsonString);\n",
    "\n",
    "Console.WriteLine(\"Settings saved to config/settings.json:\");\n",
    "Console.WriteLine(jsonString);"
   ]
  },
  {
   "cell_type": "markdown",
   "metadata": {},
   "source": [
    "If the code above doesn't show any error, you're good to go and run the other notebooks.\n",
    "\n",
    "### Resetting the configuration\n",
    "\n",
    "If you want to reset the configuration and start again, please uncomment and run the code below.\n",
    "You can also edit the [config/settings.json](config/settings.json) manually if you prefer."
   ]
  },
  {
   "cell_type": "code",
   "execution_count": null,
   "metadata": {
    "dotnet_interactive": {
     "language": "csharp"
    },
    "polyglot_notebook": {
     "kernelName": "csharp"
    },
    "vscode": {
     "languageId": "polyglot-notebook"
    }
   },
   "outputs": [],
   "source": [
    "#!import config/Settings.cs\n",
    "\n",
    "// Uncomment this line to reset your settings and delete the file from disk.\n",
    "// Settings.Reset();"
   ]
  },
  {
   "cell_type": "markdown",
   "metadata": {},
   "source": [
    "Now that your environment is all set up, let's dive into\n",
    "[how to do basic loading of the Semantic Kernel](01-basic-loading-the-kernel.ipynb)."
   ]
  }
 ],
 "metadata": {
  "kernelspec": {
   "display_name": ".NET (C#)",
   "language": "C#",
   "name": ".net-csharp"
  },
  "language_info": {
   "file_extension": ".cs",
   "mimetype": "text/x-csharp",
   "name": "C#",
   "pygments_lexer": "csharp",
   "version": "11.0"
  },
  "polyglot_notebook": {
   "kernelInfo": {
    "defaultKernelName": "csharp",
    "items": [
     {
      "aliases": [],
      "name": "csharp"
     }
    ]
   }
  }
 },
 "nbformat": 4,
 "nbformat_minor": 2
}
