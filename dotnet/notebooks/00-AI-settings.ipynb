{
 "cells": [
  {
   "attachments": {},
   "cell_type": "markdown",
   "metadata": {},
   "source": [
    "Before starting we need to setup some configuration, like which AI backend to use.\n",
    "\n",
    "When using the kernel for AI requests, the kernel needs some settings like URL and\n",
    "credentials to the AI models. The SDK currently supports OpenAI and Azure OpenAI,\n",
    "other services will be added over time. If you need an Azure OpenAI key, go\n",
    "[here](https://learn.microsoft.com/en-us/azure/cognitive-services/openai/quickstart?pivots=rest-api).\n",
    "\n",
    "The following code will ask a few questions and save the settings to a local\n",
    "`settings.json` configuration file, under the [config](config) folder. You can\n",
    "also edit the file manually if you prefer. **Please keep the file safe.**"
   ]
  },
  {
   "cell_type": "markdown",
   "metadata": {},
   "source": [
    "### Step 1 Import configuration packages and classes\n",
    "\n",
    "In order to build the settings file, we need a couple helpers."
   ]
  },
  {
   "cell_type": "code",
   "execution_count": null,
   "metadata": {
    "dotnet_interactive": {
     "language": "csharp"
    },
    "polyglot_notebook": {
     "kernelName": "csharp"
    },
    "vscode": {
     "languageId": "polyglot-notebook"
    }
   },
   "outputs": [],
   "source": [
    "//Install Nuget Packages\n",
    "#r \"nuget: Microsoft.Extensions.Configuration, 8.0.0-rc.1.23419.4\"\n",
    "#r \"nuget: Microsoft.Extensions.Configuration.Json, 8.0.0-rc.1.23419.4\"\n",
    "#r \"nuget: Microsoft.Extensions.Configuration.Binder, 8.0.0-rc.1.23419.4\"\n",
    "\n",
    "//Load support classes\n",
    "#!import config/Settings.cs\n",
    "#!import config/OpenAIConfiguration.cs\n",
    "#!import config/OobaboogaConnectorConfiguration.cs\n",
    "\n",
    "// Creating the Open AI configuration object\n",
    "var openAIConfig = new OpenAIConfiguration();\n",
    "\n",
    "// Creating the Oobabooga AI configuration object\n",
    "var oobaboogaConfig = new OobaboogaConnectorConfiguration();"
   ]
  },
  {
   "attachments": {},
   "cell_type": "markdown",
   "metadata": {},
   "source": [
    "### Step 2 Define your OpenAI configuration\n",
    "\n",
    "If you plan on using ChatGPT as a primary connector, enter your OpenAI credentials.\n",
    "If you only plan on using Oobabooga, you can skip this step.\n",
    "\n",
    "Run the following code. If you need to find the value and copy and paste, you can\n",
    "re-run the code and continue from where you left off."
   ]
  },
  {
   "cell_type": "code",
   "execution_count": 12,
   "metadata": {
    "dotnet_interactive": {
     "language": "csharp"
    },
    "polyglot_notebook": {
     "kernelName": "csharp"
    },
    "vscode": {
     "languageId": "polyglot-notebook"
    }
   },
   "outputs": [],
   "source": [
    "\n",
    "// Asking for the Open AI API key\n",
    "\n",
    "var openAIKey = await InteractiveKernel.GetInputAsync(\"Please enter your OpenAI API key\");\n",
    "openAIConfig.ApiKey = openAIKey;\n"
   ]
  },
  {
   "cell_type": "markdown",
   "metadata": {},
   "source": [
    "### Step 3 Define your primary Oobabooga configuration\n",
    "\n",
    "To test Ooobabooga completion providers, or to use Oobabooga as a primary connector for multi-connector tests, define your Oobabooga endpoint settings:\n",
    "\n",
    "Run the following code. If you need to find the value and copy and paste, you can\n",
    "re-run the code and continue from where you left off."
   ]
  },
  {
   "cell_type": "code",
   "execution_count": 14,
   "metadata": {
    "dotnet_interactive": {
     "language": "csharp"
    },
    "polyglot_notebook": {
     "kernelName": "csharp"
    },
    "vscode": {
     "languageId": "polyglot-notebook"
    }
   },
   "outputs": [],
   "source": [
    "var oobaboogaEndpoint = await InteractiveKernel.GetInputAsync(\"Please enter your Oobabooga endpoint\");\n",
    "oobaboogaConfig.EndPoint = oobaboogaEndpoint;\n",
    "\n",
    "var oobaboogaBlockingPort = await InteractiveKernel.GetInputAsync(\"Please enter your Oobabooga API Blocking port (default 5000)\");\n",
    "oobaboogaConfig.BlockingPort = int.Parse(oobaboogaBlockingPort);\n",
    "\n",
    "var oobaboogaStreamingPort = await InteractiveKernel.GetInputAsync(\"Please enter your Oobabooga API Streaming port (default 5005)\");\n",
    "oobaboogaConfig.StreamingPort = int.Parse(oobaboogaStreamingPort);\n",
    "\n"
   ]
  },
  {
   "cell_type": "markdown",
   "metadata": {},
   "source": [
    "### Step 4: Save Configuration to `settings.json`"
   ]
  },
  {
   "cell_type": "code",
   "execution_count": null,
   "metadata": {
    "dotnet_interactive": {
     "language": "csharp"
    },
    "polyglot_notebook": {
     "kernelName": "csharp"
    },
    "vscode": {
     "languageId": "polyglot-notebook"
    }
   },
   "outputs": [],
   "source": [
    "using System.Text.Json;\n",
    "using System.IO;\n",
    "\n",
    "// Create a dictionary to hold all configurations\n",
    "Dictionary<string, object> allConfigs = new Dictionary<string, object>\n",
    "{\n",
    "    { \"OpenAI\", openAIConfig },\n",
    "    { \"Oobabooga\", oobaboogaConfig }\n",
    "};\n",
    "\n",
    "// Serialize the dictionary to JSON\n",
    "string jsonString = JsonSerializer.Serialize(allConfigs, new JsonSerializerOptions { WriteIndented = true });\n",
    "\n",
    "// Save the JSON string to settings.json\n",
    "File.WriteAllText(\"config/settings.json\", jsonString);\n",
    "\n",
    "Console.WriteLine(\"Settings saved to config/settings.json\");\n"
   ]
  },
  {
   "cell_type": "markdown",
   "metadata": {},
   "source": [
    "If the code above doesn't show any error, you're good to go and run the other notebooks.\n",
    "\n",
    "### Resetting the configuration\n",
    "\n",
    "If you want to reset the configuration and start again, please uncomment and run the code below.\n",
    "You can also edit the [config/settings.json](config/settings.json) manually if you prefer."
   ]
  },
  {
   "cell_type": "code",
   "execution_count": null,
   "metadata": {
    "dotnet_interactive": {
     "language": "csharp"
    },
    "polyglot_notebook": {
     "kernelName": "csharp"
    },
    "vscode": {
     "languageId": "polyglot-notebook"
    }
   },
   "outputs": [],
   "source": [
    "#!import config/Settings.cs\n",
    "\n",
    "// Uncomment this line to reset your settings and delete the file from disk.\n",
    "// Settings.Reset();"
   ]
  },
  {
   "cell_type": "markdown",
   "metadata": {},
   "source": [
    "Now that your environment is all set up, let's dive into\n",
    "[how to do basic loading of the Semantic Kernel](01-basic-loading-the-kernel.ipynb)."
   ]
  }
 ],
 "metadata": {
  "kernelspec": {
   "display_name": ".NET (C#)",
   "language": "C#",
   "name": ".net-csharp"
  },
  "language_info": {
   "file_extension": ".cs",
   "mimetype": "text/x-csharp",
   "name": "C#",
   "pygments_lexer": "csharp",
   "version": "11.0"
  },
  "polyglot_notebook": {
   "kernelInfo": {
    "defaultKernelName": "csharp",
    "items": [
     {
      "aliases": [],
      "name": "csharp"
     }
    ]
   }
  }
 },
 "nbformat": 4,
 "nbformat_minor": 2
}
