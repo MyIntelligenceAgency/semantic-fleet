{
 "cells": [
  {
   "attachments": {},
   "cell_type": "markdown",
   "metadata": {},
   "source": [
    "# Notebook 1: Text completion with Oobabooga\n",
    "\n",
    "> [!IMPORTANT]\n",
    "> You will need an [.Net 7 SDK](https://dotnet.microsoft.com/en-us/download) and [Polyglot](https://marketplace.visualstudio.com/items?itemName=ms-dotnettools.dotnet-interactive-vscode) to get started with this notebook using .Net Interactive"
   ]
  },
  {
   "attachments": {},
   "cell_type": "markdown",
   "metadata": {},
   "source": [
    "**Step 1**: Configure your Oobabooga service settings\n",
    "\n",
    "You need to have an Oobabooga instance running with API enabled with blocking and streaming ports available at an endpoint.\n",
    "Use [this notebook](0-AI-settings.ipynb) to save your Oobabooga settings in the configuration file.\n",
    "\n",
    "We're retrieving the necessary configurations. This step is crucial for the rest of the notebook."
   ]
  },
  {
   "cell_type": "code",
   "execution_count": 6,
   "metadata": {
    "dotnet_interactive": {
     "language": "csharp"
    },
    "polyglot_notebook": {
     "kernelName": "csharp"
    }
   },
   "outputs": [
    {
     "data": {
      "text/html": [
       "<div><div></div><div></div><div><strong>Installed Packages</strong><ul><li><span>Microsoft.Extensions.Configuration, 7.0.0</span></li><li><span>Microsoft.Extensions.Configuration.Binder, 7.0.4</span></li><li><span>Microsoft.Extensions.Configuration.Json, 7.0.0</span></li><li><span>MyIA.SemanticKernel.Connectors.AI.MultiConnector, 0.34.0</span></li></ul></div></div>"
      ]
     },
     "metadata": {},
     "output_type": "display_data"
    }
   ],
   "source": [
    "// Load some helper functions, e.g. to load values from settings.json\n",
    "#!import config/Settings.cs\n",
    "\n",
    "//Import package for loading hierarchical settings from settings.json\n",
    "#r \"nuget: Microsoft.Extensions.Configuration\"\n",
    "#r \"nuget: Microsoft.Extensions.Configuration.Json\"\n",
    "#r \"nuget: Microsoft.Extensions.Configuration.Binder\"\n",
    "\n",
    "//Import multiconnector package for loading hierarchichal settings from settings.json, discarding the previous import\n",
    "\n",
    "#r \"nuget: MyIA.SemanticKernel.Connectors.AI.MultiConnector\"\n",
    "\n",
    "using MyIA.SemanticKernel.Connectors.AI.MultiConnector.Configuration;\n",
    "using Microsoft.Extensions.Configuration;\n",
    "using System.IO;\n",
    "\n",
    "// Load configuration using builder package\n",
    "\n",
    "var builder = new ConfigurationBuilder()\n",
    "    .SetBasePath(Directory.GetCurrentDirectory())\n",
    "    .AddJsonFile(\"config/settings.json\", optional: false, reloadOnChange: true);\n",
    "\n",
    "IConfiguration configuration = builder.Build();\n",
    "\n",
    " var oobaboogaConfiguration = configuration.GetSection(\"Oobabooga\").Get<OobaboogaConnectorConfiguration>();"
   ]
  },
  {
   "attachments": {},
   "cell_type": "markdown",
   "metadata": {},
   "source": [
    "**Step 2**: Import Semantic Kernel SDK and Oobabooga from NuGet\n",
    "\n",
    "We're importing the required packages. Semantic Kernel is the core, and Oobabooga is the connector for text completion."
   ]
  },
  {
   "cell_type": "code",
   "execution_count": 7,
   "metadata": {
    "dotnet_interactive": {
     "language": "csharp"
    },
    "polyglot_notebook": {
     "kernelName": "csharp"
    }
   },
   "outputs": [
    {
     "data": {
      "text/html": [
       "<div><div></div><div></div><div><strong>Installed Packages</strong><ul><li><span>microsoft.semantickernel, 1.0.0-beta2</span></li><li><span>myia.semantickernel.connectors.ai.oobabooga, 0.34.0</span></li></ul></div></div>"
      ]
     },
     "metadata": {},
     "output_type": "display_data"
    }
   ],
   "source": [
    "// Import Semantic Kernel\n",
    "#r \"nuget: Microsoft.SemanticKernel\"\n",
    "// Import Oobabooga connector\n",
    "#r \"nuget: MyIA.SemanticKernel.Connectors.AI.Oobabooga\""
   ]
  },
  {
   "cell_type": "markdown",
   "metadata": {},
   "source": [
    "**Step 3**: Create Oobabooga Text completion settings\n",
    "\n",
    "We're setting up the text completion settings, specifying endpoints and ports. Many other parameters are available to control concurrency and oobabooga's generation parameters."
   ]
  },
  {
   "cell_type": "code",
   "execution_count": 8,
   "metadata": {
    "dotnet_interactive": {
     "language": "csharp"
    },
    "polyglot_notebook": {
     "kernelName": "csharp"
    }
   },
   "outputs": [
    {
     "name": "stdout",
     "output_type": "stream",
     "text": [
      "Serialized settings: {\r\n",
      "  \"OverrideRequestSettings\": false,\r\n",
      "  \"OobaboogaParameters\": {\r\n",
      "    \"max_new_tokens\": null,\r\n",
      "    \"auto_max_new_tokens\": null,\r\n",
      "    \"preset\": \"None\",\r\n",
      "    \"do_sample\": true,\r\n",
      "    \"temperature\": 0,\r\n",
      "    \"top_p\": 0,\r\n",
      "    \"typical_p\": 1,\r\n",
      "    \"epsilon_cutoff\": 0,\r\n",
      "    \"eta_cutoff\": 0,\r\n",
      "    \"tfs\": 1,\r\n",
      "    \"top_a\": 0,\r\n",
      "    \"repetition_penalty\": 1.18,\r\n",
      "    \"top_k\": 20,\r\n",
      "    \"min_length\": 0,\r\n",
      "    \"no_repeat_ngram_size\": 0,\r\n",
      "    \"num_beams\": 1,\r\n",
      "    \"penalty_alpha\": 0,\r\n",
      "    \"length_penalty\": 1,\r\n",
      "    \"early_stopping\": false,\r\n",
      "    \"mirostat_mode\": 0,\r\n",
      "    \"mirostat_tau\": 5,\r\n",
      "    \"mirostat_eta\": 0.1,\r\n",
      "    \"guidance_scale\": 1,\r\n",
      "    \"negative_prompt\": \"\",\r\n",
      "    \"seed\": -1,\r\n",
      "    \"add_bos_token\": true,\r\n",
      "    \"truncation_length\": 2048,\r\n",
      "    \"ban_eos_token\": false,\r\n",
      "    \"skip_special_tokens\": true,\r\n",
      "    \"stopping_strings\": [],\r\n",
      "    \"chat_system_prompt\": \"Assistant is a large language model.\",\r\n",
      "    \"service_id\": null,\r\n",
      "    \"model_id\": null\r\n",
      "  },\r\n",
      "  \"WebSocketBufferSize\": 2048,\r\n",
      "  \"BlockingUri\": \"http://192.168.0.39:5003/api/v1/generate\",\r\n",
      "  \"StreamingUri\": \"ws://192.168.0.39:5013/api/v1/stream\",\r\n",
      "  \"UseWebSocketsPooling\": true\r\n",
      "}\r\n"
     ]
    }
   ],
   "source": [
    "using System;\n",
    "using System.Text.Json;\n",
    "using System.Text.Json.Serialization;\n",
    "using System.Reflection;\n",
    "using MyIA.SemanticKernel.Connectors.AI.Oobabooga.Completion.TextCompletion;\n",
    "\n",
    "// Build settings from configuration file\n",
    "var oobaboogaTextCompletionSettings = new OobaboogaTextCompletionSettings(\n",
    "    endpoint: new Uri(oobaboogaConfiguration.EndPoint),\n",
    "    blockingPort: oobaboogaConfiguration.BlockingPort,\n",
    "    streamingPort: oobaboogaConfiguration.StreamingPort\n",
    ");\n",
    "\n",
    "// Serialize to JSON\n",
    "string jsonString = JsonSerializer.Serialize(oobaboogaTextCompletionSettings, new JsonSerializerOptions { WriteIndented = true });\n",
    "\n",
    "// Display the JSON string\n",
    "Console.WriteLine($\"Serialized settings: {jsonString}\");\n"
   ]
  },
  {
   "cell_type": "markdown",
   "metadata": {},
   "source": [
    "**Step 4**: Basic Text Completion\n",
    "\n",
    "We're doing a basic text completion. You'll see how the model currently hosted by default on your Oobabooga endpoint completes a given text prompt."
   ]
  },
  {
   "cell_type": "code",
   "execution_count": 11,
   "metadata": {
    "dotnet_interactive": {
     "language": "csharp"
    },
    "polyglot_notebook": {
     "kernelName": "csharp"
    }
   },
   "outputs": [
    {
     "name": "stdout",
     "output_type": "stream",
     "text": [
      "1980 to be exact, there was an idea. A group of people got together and\r\n"
     ]
    }
   ],
   "source": [
    "using Microsoft.SemanticKernel.AI.TextCompletion;\n",
    "using MyIA.SemanticKernel.Connectors.AI.Oobabooga.Completion;\n",
    " \n",
    "var inputPrompt = \"Once upon a time, \";\n",
    "\n",
    "var oobaboogaLocal = new OobaboogaTextCompletion(oobaboogaTextCompletionSettings);\n",
    "\n",
    " var localResponse = await oobaboogaLocal.CompleteAsync(inputPrompt, new OobaboogaCompletionRequestSettings()\n",
    " {\n",
    "     Temperature = 0.01,\n",
    "     MaxNewTokens = 20,\n",
    "     TopP = 0.1,\n",
    " });\n",
    "\n",
    " Console.WriteLine(localResponse);"
   ]
  },
  {
   "cell_type": "markdown",
   "metadata": {},
   "source": [
    "**Step 5**: Streaming Text Completion\n",
    "\n",
    "We're taking it up a notch with streaming text completion. This allows for more dynamic and real-time completions."
   ]
  },
  {
   "cell_type": "code",
   "execution_count": 13,
   "metadata": {
    "dotnet_interactive": {
     "language": "csharp"
    },
    "polyglot_notebook": {
     "kernelName": "csharp"
    }
   },
   "outputs": [
    {
     "name": "stdout",
     "output_type": "stream",
     "text": [
      "1980 to be exact, there was an idea. A group of people got together and"
     ]
    }
   ],
   "source": [
    "using Microsoft.SemanticKernel.AI.TextCompletion;\n",
    "using MyIA.SemanticKernel.Connectors.AI.Oobabooga.Completion;\n",
    " \n",
    "var inputPrompt = \"Once upon a time, \";\n",
    "\n",
    "var oobaboogaLocal = new OobaboogaTextCompletion(oobaboogaTextCompletionSettings);\n",
    "\n",
    "\n",
    "var localResponse = oobaboogaLocal.CompleteStreamAsync(inputPrompt,  new OobaboogaCompletionRequestSettings()\n",
    "{\n",
    "    Temperature = 0.01,\n",
    "    MaxNewTokens = 20,\n",
    "    TopP = 0.1,\n",
    "});\n",
    "\n",
    "await foreach (var result in localResponse)\n",
    "{\n",
    "    // This will output each piece of the result as it comes in\n",
    "    Console.Write(result);\n",
    "}\n"
   ]
  },
  {
   "cell_type": "markdown",
   "metadata": {},
   "source": [
    "**Step 6**: Use Kernel with Oobabooga\n",
    "\n",
    "We're integrating Oobabooga with a Semantic Kernel's kernel. This allows for more advanced functionalities."
   ]
  },
  {
   "cell_type": "code",
   "execution_count": 14,
   "metadata": {
    "dotnet_interactive": {
     "language": "csharp"
    },
    "polyglot_notebook": {
     "kernelName": "csharp"
    }
   },
   "outputs": [
    {
     "name": "stdout",
     "output_type": "stream",
     "text": [
      " Katie and I am a 20 year old college student. I have been diagnosed with\r\n"
     ]
    }
   ],
   "source": [
    "using Microsoft.SemanticKernel;\n",
    "using Microsoft.SemanticKernel.AI.TextCompletion;\n",
    "using MyIA.SemanticKernel.Connectors.AI.Oobabooga;\n",
    "\n",
    "\n",
    "//Create Kernel builder\n",
    "var builder = new KernelBuilder();\n",
    "\n",
    "builder.WithOobaboogaTextCompletionService(oobaboogaTextCompletionSettings);\n",
    "\n",
    "IKernel kernel = builder.Build();\n",
    "\n",
    "// Get text completion service from kernel\n",
    "var textCompletion = kernel.GetService<ITextCompletion>();\n",
    "var response = await textCompletion.CompleteAsync(\"Hello, my name is\", new OobaboogaCompletionRequestSettings(){\n",
    "     Temperature = 0.01,\n",
    "     MaxNewTokens = 20,\n",
    "     TopP = 0.1,\n",
    " });\n",
    "Console.WriteLine(response);"
   ]
  },
  {
   "attachments": {},
   "cell_type": "markdown",
   "metadata": {},
   "source": [
    "**Step 7**: Load and Run a Skill\n",
    "\n",
    "We're loading a skill and running it. Skills are pre-defined functions that can be invoked to perform specific tasks."
   ]
  },
  {
   "cell_type": "code",
   "execution_count": 15,
   "metadata": {
    "dotnet_interactive": {
     "language": "csharp"
    },
    "polyglot_notebook": {
     "kernelName": "csharp"
    }
   },
   "outputs": [
    {
     "name": "stdout",
     "output_type": "stream",
     "text": [
      "\n",
      "Joke: Why did the time-traveling scientist go back in time? To find out why they went extinct!\r\n"
     ]
    }
   ],
   "source": [
    "using Microsoft.SemanticKernel.Orchestration;\n",
    "// Load the Skills Directory\n",
    "var skillsDirectory = Path.Combine(System.IO.Directory.GetCurrentDirectory(), \"..\", \"..\", \"samples\", \"skills\");\n",
    "\n",
    "// Load the FunSkill from the Skills Directory\n",
    "var funSkillFunctions = kernel.ImportSemanticFunctionsFromDirectory(skillsDirectory, \"FunSkill\");\n",
    "\n",
    " var contextVariables = new ContextVariables(\"time travel to dinosaur age\");\n",
    " contextVariables[\"style\"] = \"English humor\";\n",
    " \n",
    " var context = kernel.CreateNewContext(contextVariables);\n",
    "\n",
    "// Run the Function called Joke\n",
    "var result = await funSkillFunctions[\"Joke\"].InvokeAsync(context);\n",
    "\n",
    "// Return the result to the Notebook\n",
    "Console.WriteLine(result);"
   ]
  },
  {
   "cell_type": "markdown",
   "metadata": {},
   "source": [
    "**Step 8**: Advanced Text Completion with Custom Chat History\n",
    "\n",
    "In this section, we'll show you how to simulate a chat experience by maintaining a custom chat history. We'll use text completion to generate responses.\n",
    "This is a sneak peek into more advanced capabilities."
   ]
  },
  {
   "cell_type": "code",
   "execution_count": 18,
   "metadata": {
    "dotnet_interactive": {
     "language": "csharp"
    },
    "polyglot_notebook": {
     "kernelName": "csharp"
    }
   },
   "outputs": [
    {
     "name": "stdout",
     "output_type": "stream",
     "text": [
      "User: Tell me a joke.\n",
      "ChatBot:  Why did the tomato turn red? Because it saw the salad dressing!\n",
      "User: Why is that funny?\n",
      "ChatBot:  It plays on the idea of why something turns red, and adds a humorous twist by saying it's because it saw the salad dressing.\n"
     ]
    }
   ],
   "source": [
    "using Microsoft.SemanticKernel;\n",
    "using Microsoft.SemanticKernel.TemplateEngine;\n",
    "using Microsoft.SemanticKernel.Orchestration;\n",
    "\n",
    "// Initialize Kernel Builder\n",
    "var builder = new KernelBuilder();\n",
    "\n",
    "// Configure Oobabooga as the AI backend\n",
    "builder.WithOobaboogaTextCompletionService(oobaboogaTextCompletionSettings);\n",
    "\n",
    "// Build the Kernel\n",
    "IKernel kernel = builder.Build();\n",
    "\n",
    "// Define the prompt\n",
    "const string skPrompt = @\"\n",
    "ChatBot can have a conversation with you about any topic.\n",
    "It can give explicit instructions or say 'I don't know' if it does not have an answer.\n",
    "\n",
    "{{$history}}\n",
    "User: {{$userInput}}\n",
    "ChatBot:\";\n",
    "\n",
    "// Configure the prompt\n",
    "\n",
    " var promptTemplateConfig = new PromptTemplateConfig();\n",
    " promptTemplateConfig.ModelSettings.Add(new OobaboogaCompletionRequestSettings()\n",
    "{\n",
    "    Temperature = 0.7,\n",
    "    MaxNewTokens = 100,\n",
    "});\n",
    "\n",
    "\n",
    "// Register the semantic function\n",
    "var promptTemplate = new PromptTemplate(skPrompt, promptTemplateConfig, kernel);\n",
    "var chatFunction = kernel.RegisterSemanticFunction(\"ChatBot\", \"Chat\", promptTemplateConfig, promptTemplate);\n",
    "\n",
    "// Initialize context\n",
    "var context = kernel.CreateNewContext();\n",
    "var history = \"\";\n",
    "context.Variables[\"history\"] = history;\n",
    "\n",
    "// Chat function\n",
    "Func<string, Task> Chat = async (string input) => {\n",
    "    context.Variables[\"userInput\"] = input;\n",
    "    var answer = await chatFunction.InvokeAsync(context);\n",
    "    history += $\"\\nUser: {input}\\nChatBot: {answer}\\n\";\n",
    "    context.Variables[\"history\"] = history;\n",
    "    Console.WriteLine($\"ChatBot: {answer}\");\n",
    "};\n",
    "\n",
    "// Example usage\n",
    "var message = \"Tell me a joke.\";\n",
    "Console.WriteLine($\"User: {message}\");\n",
    "await Chat(message);\n",
    "message = \"Why is that funny?\";\n",
    "Console.WriteLine($\"User: {message}\");\n",
    "await Chat(message);"
   ]
  },
  {
   "attachments": {},
   "cell_type": "markdown",
   "metadata": {},
   "source": [
    "You've got the basics down. Ready to dive deeper? Head over to Notebook 2 for more advanced chat capabilities.\n",
    "\n",
    "**Next Steps**: You know the basics, you can now move on to chat capabilities."
   ]
  }
 ],
 "metadata": {
  "kernelspec": {
   "display_name": ".NET (C#)",
   "language": "C#",
   "name": ".net-csharp"
  },
  "language_info": {
   "name": "polyglot-notebook"
  },
  "polyglot_notebook": {
   "kernelInfo": {
    "defaultKernelName": "csharp",
    "items": [
     {
      "aliases": [],
      "name": "csharp"
     }
    ]
   }
  }
 },
 "nbformat": 4,
 "nbformat_minor": 2
}
