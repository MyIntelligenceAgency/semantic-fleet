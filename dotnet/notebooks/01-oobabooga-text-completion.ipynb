{
 "cells": [
  {
   "attachments": {},
   "cell_type": "markdown",
   "metadata": {},
   "source": [
    "# Notebook 1: Text completion with Oobabooga\n",
    "\n",
    "> [!IMPORTANT]\n",
    "> You will need an [.Net 7 SDK](https://dotnet.microsoft.com/en-us/download) and [Polyglot](https://marketplace.visualstudio.com/items?itemName=ms-dotnettools.dotnet-interactive-vscode) to get started with this notebook using .Net Interactive"
   ]
  },
  {
   "attachments": {},
   "cell_type": "markdown",
   "metadata": {},
   "source": [
    "**Step 1**: Configure your Oobabooga service settings\n",
    "\n",
    "You need to have an Oobabooga instance running with API enabled with blocking and streaming ports available at an endpoint.\n",
    "Use [this notebook](0-AI-settings.ipynb) to save your Oobabooga settings in the configuration file.\n",
    "\n",
    "We're retrieving the necessary configurations. This step is crucial for the rest of the notebook."
   ]
  },
  {
   "cell_type": "code",
   "execution_count": 1,
   "metadata": {
    "dotnet_interactive": {
     "language": "csharp"
    },
    "polyglot_notebook": {
     "kernelName": "csharp"
    }
   },
   "outputs": [
    {
     "data": {
      "text/html": [
       "<div><div></div><div></div><div><strong>Installed Packages</strong><ul><li><span>Microsoft.Extensions.Configuration, 7.0.0</span></li><li><span>Microsoft.Extensions.Configuration.Binder, 7.0.4</span></li><li><span>Microsoft.Extensions.Configuration.Json, 7.0.0</span></li></ul></div></div>"
      ]
     },
     "metadata": {},
     "output_type": "display_data"
    }
   ],
   "source": [
    "// Load some helper functions, e.g. to load values from settings.json\n",
    "#!import config/Settings.cs\n",
    "\n",
    "//Import package for loading hierarchichal settings from settings.json\n",
    "#r \"nuget: Microsoft.Extensions.Configuration\"\n",
    "#r \"nuget: Microsoft.Extensions.Configuration.Json\"\n",
    "#r \"nuget: Microsoft.Extensions.Configuration.Binder\"\n",
    "\n",
    "#!import config/OobaboogaConnectorConfiguration.cs\n",
    "\n",
    "// Load configuration using builder package\n",
    "\n",
    "using Microsoft.Extensions.Configuration;\n",
    "\n",
    "var builder = new ConfigurationBuilder()\n",
    "    .SetBasePath(Directory.GetCurrentDirectory())\n",
    "    .AddJsonFile(\"config/settings.json\", optional: false, reloadOnChange: true);\n",
    "\n",
    "IConfiguration configuration = builder.Build();\n",
    "\n",
    " var oobaboogaConfiguration = configuration.GetSection(\"Oobabooga\").Get<OobaboogaConnectorConfiguration>();"
   ]
  },
  {
   "attachments": {},
   "cell_type": "markdown",
   "metadata": {},
   "source": [
    "**Step 2**: Import Semantic Kernel SDK and Oobabooga from NuGet\n",
    "\n",
    "We're importing the required packages. Semantic Kernel is the core, and Oobabooga is the connector for text completion."
   ]
  },
  {
   "cell_type": "code",
   "execution_count": 2,
   "metadata": {
    "dotnet_interactive": {
     "language": "csharp"
    },
    "polyglot_notebook": {
     "kernelName": "csharp"
    }
   },
   "outputs": [
    {
     "data": {
      "text/html": [
       "<div><div></div><div></div><div><strong>Installed Packages</strong><ul><li><span>Microsoft.SemanticKernel, 0.24.230918.1-preview</span></li><li><span>MyIA.SemanticKernel.Connectors.AI.Oobabooga, 0.33.6</span></li></ul></div></div>"
      ]
     },
     "metadata": {},
     "output_type": "display_data"
    }
   ],
   "source": [
    "// Import Semantic Kernel\n",
    "#r \"nuget: Microsoft.SemanticKernel, 0.24.230918.1-preview\"\n",
    "// Import Oobabooga connector\n",
    "#r \"nuget: MyIA.SemanticKernel.Connectors.AI.Oobabooga\""
   ]
  },
  {
   "cell_type": "markdown",
   "metadata": {},
   "source": [
    "**Step 3**: Create Oobabooga Text completion settings\n",
    "\n",
    "We're setting up the text completion settings, specifying endpoints and ports. Many other parameters are available to control concurrency and oobabooga's generation parameters."
   ]
  },
  {
   "cell_type": "code",
   "execution_count": 7,
   "metadata": {
    "dotnet_interactive": {
     "language": "csharp"
    },
    "polyglot_notebook": {
     "kernelName": "csharp"
    }
   },
   "outputs": [],
   "source": [
    "using System;\n",
    "using System.Text.Json;\n",
    "using System.Text.Json.Serialization;\n",
    "using System.Reflection;\n",
    "using MyIA.SemanticKernel.Connectors.AI.Oobabooga.Completion.TextCompletion;\n",
    "\n",
    "// Build settings from configuration file\n",
    "var oobaboogaTextCompletionSettings = new OobaboogaTextCompletionSettings(\n",
    "    endpoint: new Uri(oobaboogaConfiguration.EndPoint),\n",
    "    blockingPort: oobaboogaConfiguration.BlockingPort,\n",
    "    streamingPort: oobaboogaConfiguration.StreamingPort\n",
    ");\n",
    "\n",
    "// Serialize to JSON\n",
    "// I have absolutely no idea why this doesn't work. It does in Unit tests. It's just in those notebooks that for some reason, the JsonIgnore attribute isn't accounted for.\n",
    "//string jsonString = JsonSerializer.Serialize(oobaboogaTextCompletionSettings, new JsonSerializerOptions { WriteIndented = true });\n",
    "\n",
    "// Display the JSON string\n",
    "// Console.WriteLine($\"Serialized settings: {jsonString}\");\n"
   ]
  },
  {
   "cell_type": "markdown",
   "metadata": {},
   "source": [
    "**Step 4**: Basic Text Completion\n",
    "\n",
    "We're doing a basic text completion. You'll see how the model currently hosted by default on your Oobabooga endpoint completes a given text prompt."
   ]
  },
  {
   "cell_type": "code",
   "execution_count": 8,
   "metadata": {
    "dotnet_interactive": {
     "language": "csharp"
    },
    "polyglot_notebook": {
     "kernelName": "csharp"
    }
   },
   "outputs": [
    {
     "name": "stdout",
     "output_type": "stream",
     "text": [
      "1999 to be exact, I was a young, naive, and idealistic college\r\n"
     ]
    }
   ],
   "source": [
    "using Microsoft.SemanticKernel.AI.TextCompletion;\n",
    " \n",
    "var inputPrompt = \"Once upon a time, \";\n",
    "\n",
    "var oobaboogaLocal = new OobaboogaTextCompletion(oobaboogaTextCompletionSettings);\n",
    "\n",
    " var localResponse = await oobaboogaLocal.CompleteAsync(inputPrompt, new CompleteRequestSettings()\n",
    " {\n",
    "     Temperature = 0.01,\n",
    "     MaxTokens = 20,\n",
    "     TopP = 0.1,\n",
    " });\n",
    "\n",
    " Console.WriteLine(localResponse);"
   ]
  },
  {
   "cell_type": "markdown",
   "metadata": {},
   "source": [
    "**Step 5**: Streaming Text Completion\n",
    "\n",
    "We're taking it up a notch with streaming text completion. This allows for more dynamic and real-time completions."
   ]
  },
  {
   "cell_type": "code",
   "execution_count": 9,
   "metadata": {
    "dotnet_interactive": {
     "language": "csharp"
    },
    "polyglot_notebook": {
     "kernelName": "csharp"
    }
   },
   "outputs": [
    {
     "name": "stdout",
     "output_type": "stream",
     "text": [
      "1999 to be exact, I was a young, naive, and idealistic college"
     ]
    }
   ],
   "source": [
    "using Microsoft.SemanticKernel.AI.TextCompletion;\n",
    " \n",
    "var inputPrompt = \"Once upon a time, \";\n",
    "\n",
    "var oobaboogaLocal = new OobaboogaTextCompletion(oobaboogaTextCompletionSettings);\n",
    "\n",
    "\n",
    "var localResponse = oobaboogaLocal.CompleteStreamAsync(inputPrompt, new CompleteRequestSettings()\n",
    "{\n",
    "    Temperature = 0.01,\n",
    "    MaxTokens = 20,\n",
    "    TopP = 0.1,\n",
    "});\n",
    "\n",
    "await foreach (var result in localResponse)\n",
    "{\n",
    "    // This will output each piece of the result as it comes in\n",
    "    Console.Write(result);\n",
    "}\n"
   ]
  },
  {
   "cell_type": "markdown",
   "metadata": {},
   "source": [
    "**Step 6**: Use Kernel with Oobabooga\n",
    "\n",
    "We're integrating Oobabooga with a Semantic Kernel's kernel. This allows for more advanced functionalities."
   ]
  },
  {
   "cell_type": "code",
   "execution_count": 10,
   "metadata": {
    "dotnet_interactive": {
     "language": "csharp"
    },
    "polyglot_notebook": {
     "kernelName": "csharp"
    }
   },
   "outputs": [
    {
     "name": "stdout",
     "output_type": "stream",
     "text": [
      " Katie and I am a 20 year old college student. I am currently studying to become\r\n"
     ]
    }
   ],
   "source": [
    "using Microsoft.SemanticKernel;\n",
    "using Microsoft.SemanticKernel.AI.TextCompletion;\n",
    "using MyIA.SemanticKernel.Connectors.AI.Oobabooga;\n",
    "\n",
    "\n",
    "//Create Kernel builder\n",
    "var builder = new KernelBuilder();\n",
    "\n",
    "builder.WithOobaboogaTextCompletionService(oobaboogaTextCompletionSettings);\n",
    "\n",
    "IKernel kernel = builder.Build();\n",
    "\n",
    "// Get text completion service from kernel\n",
    "var textCompletion = kernel.GetService<ITextCompletion>();\n",
    "var response = await textCompletion.CompleteAsync(\"Hello, my name is\", new CompleteRequestSettings(){\n",
    "     Temperature = 0.01,\n",
    "     MaxTokens = 20,\n",
    "     TopP = 0.1,\n",
    " });\n",
    "Console.WriteLine(response);"
   ]
  },
  {
   "attachments": {},
   "cell_type": "markdown",
   "metadata": {},
   "source": [
    "**Step 7**: Load and Run a Skill\n",
    "\n",
    "We're loading a skill and running it. Skills are pre-defined functions that can be invoked to perform specific tasks."
   ]
  },
  {
   "cell_type": "code",
   "execution_count": 11,
   "metadata": {
    "dotnet_interactive": {
     "language": "csharp"
    },
    "polyglot_notebook": {
     "kernelName": "csharp"
    }
   },
   "outputs": [
    {
     "name": "stdout",
     "output_type": "stream",
     "text": [
      "\n",
      "Joke: Why did the time-traveling scientist go back in time? To find out why they went extinct!\r\n"
     ]
    }
   ],
   "source": [
    "using Microsoft.SemanticKernel.Orchestration;\n",
    "// Load the Skills Directory\n",
    "var skillsDirectory = Path.Combine(System.IO.Directory.GetCurrentDirectory(), \"..\", \"..\", \"samples\", \"skills\");\n",
    "\n",
    "// Load the FunSkill from the Skills Directory\n",
    "var funSkillFunctions = kernel.ImportSemanticSkillFromDirectory(skillsDirectory, \"FunSkill\");\n",
    "\n",
    " var contextVariables = new ContextVariables(\"time travel to dinosaur age\");\n",
    " contextVariables[\"style\"] = \"English humor\";\n",
    " \n",
    " var context = new SKContext(contextVariables);\n",
    "\n",
    "// Run the Function called Joke\n",
    "var result = await funSkillFunctions[\"Joke\"].InvokeAsync(context);\n",
    "\n",
    "// Return the result to the Notebook\n",
    "Console.WriteLine(result);"
   ]
  },
  {
   "cell_type": "markdown",
   "metadata": {},
   "source": [
    "**Step 8**: Advanced Text Completion with Custom Chat History\n",
    "\n",
    "In this section, we'll show you how to simulate a chat experience by maintaining a custom chat history. We'll use text completion to generate responses.\n",
    "This is a sneak peek into more advanced capabilities."
   ]
  },
  {
   "cell_type": "code",
   "execution_count": 12,
   "metadata": {
    "dotnet_interactive": {
     "language": "csharp"
    },
    "polyglot_notebook": {
     "kernelName": "csharp"
    }
   },
   "outputs": [
    {
     "name": "stdout",
     "output_type": "stream",
     "text": [
      "User: Tell me a joke.\n",
      "ChatBot:  Sure, here's a joke:\n",
      "\n",
      "Why did the tomato turn red?\n",
      "\n",
      "Because it saw the salad dressing!\n",
      "\n",
      "I hope you enjoyed that joke!\n",
      "User: Why is that funny?\n",
      "ChatBot:  The joke is funny because it plays on the word \"red\" in a pun. The tomato turns red because it sees the salad dressing, which is also red. This unexpected twist makes the joke humorous.\n"
     ]
    }
   ],
   "source": [
    "using Microsoft.SemanticKernel;\n",
    "using Microsoft.SemanticKernel.SemanticFunctions;\n",
    "using Microsoft.SemanticKernel.Orchestration;\n",
    "\n",
    "// Initialize Kernel Builder\n",
    "var builder = new KernelBuilder();\n",
    "\n",
    "// Configure Oobabooga as the AI backend\n",
    "builder.WithOobaboogaTextCompletionService(oobaboogaTextCompletionSettings);\n",
    "\n",
    "// Build the Kernel\n",
    "IKernel kernel = builder.Build();\n",
    "\n",
    "// Define the prompt\n",
    "const string skPrompt = @\"\n",
    "ChatBot can have a conversation with you about any topic.\n",
    "It can give explicit instructions or say 'I don't know' if it does not have an answer.\n",
    "\n",
    "{{$history}}\n",
    "User: {{$userInput}}\n",
    "ChatBot:\";\n",
    "\n",
    "// Configure the prompt\n",
    "var promptConfig = new PromptTemplateConfig\n",
    "{\n",
    "    Completion =\n",
    "    {\n",
    "        MaxTokens = 100,\n",
    "        Temperature = 0.7,\n",
    "        TopP = 0.5,\n",
    "    }\n",
    "};\n",
    "\n",
    "// Register the semantic function\n",
    "var promptTemplate = new PromptTemplate(skPrompt, promptConfig, kernel);\n",
    "var functionConfig = new SemanticFunctionConfig(promptConfig, promptTemplate);\n",
    "var chatFunction = kernel.RegisterSemanticFunction(\"ChatBot\", \"Chat\", functionConfig);\n",
    "\n",
    "// Initialize context\n",
    "var context = kernel.CreateNewContext();\n",
    "var history = \"\";\n",
    "context.Variables[\"history\"] = history;\n",
    "\n",
    "// Chat function\n",
    "Func<string, Task> Chat = async (string input) => {\n",
    "    context.Variables[\"userInput\"] = input;\n",
    "    var answer = await chatFunction.InvokeAsync(context);\n",
    "    history += $\"\\nUser: {input}\\nChatBot: {answer}\\n\";\n",
    "    context.Variables[\"history\"] = history;\n",
    "    Console.WriteLine($\"ChatBot: {answer}\");\n",
    "};\n",
    "\n",
    "// Example usage\n",
    "var message = \"Tell me a joke.\";\n",
    "Console.WriteLine($\"User: {message}\");\n",
    "await Chat(message);\n",
    "message = \"Why is that funny?\";\n",
    "Console.WriteLine($\"User: {message}\");\n",
    "await Chat(message);"
   ]
  },
  {
   "attachments": {},
   "cell_type": "markdown",
   "metadata": {},
   "source": [
    "You've got the basics down. Ready to dive deeper? Head over to Notebook 2 for more advanced chat capabilities.\n",
    "\n",
    "**Next Steps**: You know the basics, you can now move on to chat capabilities."
   ]
  }
 ],
 "metadata": {
  "kernelspec": {
   "display_name": ".NET (C#)",
   "language": "C#",
   "name": ".net-csharp"
  },
  "language_info": {
   "name": "polyglot-notebook"
  },
  "polyglot_notebook": {
   "kernelInfo": {
    "defaultKernelName": "csharp",
    "items": [
     {
      "aliases": [],
      "name": "csharp"
     }
    ]
   }
  }
 },
 "nbformat": 4,
 "nbformat_minor": 2
}
