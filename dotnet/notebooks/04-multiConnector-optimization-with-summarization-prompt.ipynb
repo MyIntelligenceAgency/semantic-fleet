{
 "cells": [
  {
   "attachments": {},
   "cell_type": "markdown",
   "metadata": {},
   "source": [
    "# Notebook 04: Multi-Connector Optimization with Explicit Summarization Prompts\n",
    "\n",
    "## Objective\n",
    "\n",
    "In this notebook, we'll focus on demonstrating the optimization capabilities of our multi-connector setup. We'll use a simple, explicit summarization prompt to illustrate how the system can optimize the selection of connectors for specific tasks by offloading the summarization skill from ChatGPT to smaller Oobabooga models.\n",
    "\n",
    "## Prerequisites\n",
    "\n",
    "- Before proceeding, make sure you have run `00-AI-settings.ipynb` to set up your OpenAI key, since we'll use ChatGPT as our primary connector, and have at least one Oobabooga model running and configured in the `Multiconnector` section of your `settings.json` file according to your VRam capabilities.\n",
    "- Basic knowledge of the multi-connector pipeline from `03-multiConnector-intro-with-arithmetic-mocks.ipynb`.\n",
    "\n",
    "## Outline\n",
    "\n",
    "1. **Setup**\n",
    "    - Import required libraries\n",
    "    - Load configuration from settings file\n",
    "    - Create multicompletion settings\n",
    "2. **Initialization**\n",
    "    - Initialize the kernel with multicompletion settings\n",
    "    - Import summarization skill\n",
    "3. **Creating a Simple Explicit Summarization Prompt**\n",
    "    - Define the prompt\n",
    "    - Create a plan\n",
    "4. **First Pass: Primary Connector**\n",
    "    - Execute the plan with the primary connector\n",
    "    - Analyze the cost and duration\n",
    "5. **Optimization**\n",
    "    - Perform tests, evaluation, and optimization\n",
    "6. **Second Pass: Updated Settings**\n",
    "    - Re-execute the plan with optimized settings\n",
    "    - Compare the results\n",
    "7. **Conclusion**\n",
    "    - Summary of findings\n",
    "    - Next steps"
   ]
  },
  {
   "cell_type": "markdown",
   "metadata": {},
   "source": [
    "## 1. Setup\n",
    "\n",
    "### 1.1 Import Required Libraries\n",
    "\n",
    "We'll start with importing the appropriate Nugget packages to load the configuration settings, and to run the Multiconnector itself. "
   ]
  },
  {
   "cell_type": "code",
   "execution_count": 1,
   "metadata": {
    "dotnet_interactive": {
     "language": "csharp"
    },
    "polyglot_notebook": {
     "kernelName": "csharp"
    }
   },
   "outputs": [
    {
     "data": {
      "text/html": [
       "<div><div></div><div></div><div><strong>Installed Packages</strong><ul><li><span>Microsoft.Extensions.Configuration, 8.0.0-rc.1.23419.4</span></li><li><span>Microsoft.Extensions.Configuration.Binder, 8.0.0-rc.1.23419.4</span></li><li><span>Microsoft.Extensions.Configuration.Json, 8.0.0-rc.1.23419.4</span></li><li><span>Microsoft.SemanticKernel, 0.24.230918.1-preview</span></li><li><span>MyIA.SemanticKernel.Connectors.AI.MultiConnector, 0.33.6</span></li><li><span>MyIA.SemanticKernel.Connectors.AI.Oobabooga, 0.33.6</span></li></ul></div></div>"
      ]
     },
     "metadata": {},
     "output_type": "display_data"
    }
   ],
   "source": [
    "//Import package for loading hierarchichal settings from settings.json\n",
    "#r \"nuget: Microsoft.Extensions.Configuration, 8.0.0-rc.1.23419.4\"\n",
    "#r \"nuget: Microsoft.Extensions.Configuration.Json, 8.0.0-rc.1.23419.4\"\n",
    "#r \"nuget: Microsoft.Extensions.Configuration.Binder, 8.0.0-rc.1.23419.4\"\n",
    "\n",
    "// Import Semantic Kernel\n",
    "#r \"nuget: Microsoft.SemanticKernel, 0.24.230918.1-preview\"\n",
    "// Import Oobabooga connector package\n",
    "#r \"nuget: MyIA.SemanticKernel.Connectors.AI.Oobabooga\"\n",
    "// Import Multiconnector package\n",
    "#r \"nuget: MyIA.SemanticKernel.Connectors.AI.MultiConnector\""
   ]
  },
  {
   "cell_type": "markdown",
   "metadata": {},
   "source": [
    "### 1.2 Load Settings\n",
    "\n",
    "We load OpenAi and Multiconnector configuration from the settings file"
   ]
  },
  {
   "cell_type": "code",
   "execution_count": 2,
   "metadata": {
    "dotnet_interactive": {
     "language": "csharp"
    },
    "polyglot_notebook": {
     "kernelName": "csharp"
    }
   },
   "outputs": [],
   "source": [
    "// Load configuration using builder package\n",
    "using System.IO;\n",
    "using Microsoft.Extensions.Configuration;\n",
    "using MyIA.SemanticKernel.Connectors.AI.MultiConnector.Configuration;\n",
    "\n",
    "var builder = new ConfigurationBuilder()\n",
    "    .SetBasePath(Directory.GetCurrentDirectory())\n",
    "    .AddJsonFile(\"config/settings.json\", optional: false, reloadOnChange: true);\n",
    "\n",
    "IConfiguration configuration = builder.Build();\n",
    "\n",
    "var openAIConfiguration = configuration.GetSection(\"OpenAI\").Get<OpenAIConfiguration>();\n",
    "var multiOobaboogaConnectorConfiguration = configuration.GetSection(\"MultiConnector\").Get<MultiOobaboogaConnectorConfiguration>();"
   ]
  },
  {
   "cell_type": "markdown",
   "metadata": {},
   "source": [
    "### 1.3 Set up MultiTextCompletion settings\n",
    "\n",
    "There are many parameters controlling how the multiconnector will work and perform optimization. We need to create an instance of the corresponding class.\n",
    "\n",
    "Also, because we'll be measuring costs to perform our optimization, we need to create an creditor object dedicated to that.\n",
    "\n",
    "For now, we'll stick to the default parameters."
   ]
  },
  {
   "cell_type": "code",
   "execution_count": null,
   "metadata": {
    "dotnet_interactive": {
     "language": "csharp"
    },
    "polyglot_notebook": {
     "kernelName": "csharp"
    }
   },
   "outputs": [],
   "source": [
    "using MyIA.SemanticKernel.Connectors.AI.MultiConnector;\n",
    "using System.Text.Json;\n",
    "using System.Text.Json.Serialization;\n",
    "using MyIA.SemanticKernel.Connectors.AI.MultiConnector.PromptSettings;\n",
    "\n",
    "var creditor = new CallRequestCostCreditor();\n",
    "\n",
    "// The most common settings for a MultiTextCompletion are illustrated below, most of them have default values and are optional\n",
    "var settings = new MultiTextCompletionSettings()\n",
    "{\n",
    "    Creditor = creditor\n",
    "};\n",
    "\n",
    "string jsonString = JsonSerializer.Serialize(settings, new JsonSerializerOptions() { WriteIndented = true });\n",
    "display(jsonString);"
   ]
  },
  {
   "cell_type": "markdown",
   "metadata": {},
   "source": [
    "## 2. Initialization\n",
    "\n",
    "With all the settings created, we can now create the semantic kernel that we'll use to run our tests.\n",
    "\n",
    "### 2.1 Create primary and secondary completions\n",
    "\n",
    "We'll use the OpenAi configuration to instantiate a text or chat based connector typically using ChatGPT.\n",
    "Then we can use a helper method from the multicompletion configuration to instantiate all Oobabooga secondary connectors."
   ]
  },
  {
   "cell_type": "code",
   "execution_count": null,
   "metadata": {
    "dotnet_interactive": {
     "language": "csharp"
    },
    "polyglot_notebook": {
     "kernelName": "csharp"
    }
   },
   "outputs": [],
   "source": [
    "using System.Threading;\n",
    "using Microsoft.SemanticKernel.AI.TextCompletion;\n",
    "using Microsoft.SemanticKernel.Connectors.AI.OpenAI.ChatCompletion;\n",
    "using Microsoft.SemanticKernel.Connectors.AI.OpenAI.TextCompletion;\n",
    "\n",
    "// Creating a cancellation token source to be able to cancel the request\n",
    "CancellationTokenSource cleanupToken = new();\n",
    "\n",
    "//Creating the primary connector. We use the OpenAI connector here, either text or chat completion depending on the configuration\n",
    " ITextCompletion openAiConnector;\n",
    "\n",
    " string testOrChatModelId;\n",
    " if (openAIConfiguration.ChatModelId != null)\n",
    " {\n",
    "     testOrChatModelId = openAIConfiguration.ChatModelId;\n",
    "     openAiConnector = new OpenAIChatCompletion(testOrChatModelId, openAIConfiguration.ApiKey);\n",
    " }\n",
    " else\n",
    " {\n",
    "     testOrChatModelId = openAIConfiguration.ModelId;\n",
    "     openAiConnector = new OpenAITextCompletion(testOrChatModelId, openAIConfiguration.ApiKey);\n",
    " }\n",
    "\n",
    " // Creating the secondary connectors. We use a dedicated helper, but you can create them manually if you want.\n",
    "\n",
    " var oobaboogaCompletions = multiOobaboogaConnectorConfiguration.CreateNamedCompletions();"
   ]
  },
  {
   "cell_type": "markdown",
   "metadata": {},
   "source": [
    "### 2.2 Create Kernel\n"
   ]
  }
 ],
 "metadata": {
  "kernelspec": {
   "display_name": ".NET (C#)",
   "language": "C#",
   "name": ".net-csharp"
  },
  "language_info": {
   "name": "polyglot-notebook"
  },
  "polyglot_notebook": {
   "kernelInfo": {
    "defaultKernelName": "csharp",
    "items": [
     {
      "aliases": [],
      "name": "csharp"
     }
    ]
   }
  }
 },
 "nbformat": 4,
 "nbformat_minor": 2
}
